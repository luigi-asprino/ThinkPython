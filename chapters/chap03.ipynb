{
 "cells": [
  {
   "cell_type": "markdown",
   "id": "qpnioAx6TX5x",
   "metadata": {
    "id": "qpnioAx6TX5x"
   },
   "source": [
    "This is the Jupyter notebook for Chapter 3 of [*Think Python*, 3rd edition](https://greenteapress.com/wp/think-python-3rd-edition), by Allen B. Downey.\n",
    "\n",
    "\n",
    "**Before you start**. Save a copy of this notebook in your Google Drive (File -> Save a copy in Drive) and run this cell to download the scripts required for this chapter.\n"
   ]
  },
  {
   "cell_type": "code",
   "execution_count": null,
   "id": "103cbe3c",
   "metadata": {
    "colab": {
     "base_uri": "https://localhost:8080/"
    },
    "id": "103cbe3c",
    "outputId": "bb5fa688-94fc-4172-dd71-fea10a702b44",
    "tags": []
   },
   "outputs": [],
   "source": [
    "from os.path import basename, exists\n",
    "\n",
    "def download(url):\n",
    "    filename = basename(url)\n",
    "    if not exists(filename):\n",
    "        from urllib.request import urlretrieve\n",
    "\n",
    "        local, _ = urlretrieve(url, filename)\n",
    "        print(\"Downloaded \" + str(local))\n",
    "    return filename\n",
    "\n",
    "download('https://github.com/AllenDowney/ThinkPython/raw/v3/thinkpython.py');\n",
    "download('https://github.com/AllenDowney/ThinkPython/raw/v3/diagram.py');\n",
    "\n",
    "import thinkpython"
   ]
  },
  {
   "cell_type": "markdown",
   "id": "6bd858a8",
   "metadata": {
    "id": "6bd858a8"
   },
   "source": [
    "# Functions\n",
    "\n",
    "In this chapter, you will learn how to create your own functions and run them.\n",
    "And we'll see how one function can call another.\n",
    "\n",
    "As examples, we'll display lyrics from songs by the Imagine Dragons.\n",
    "\n"
   ]
  },
  {
   "cell_type": "markdown",
   "id": "b4ea99c5",
   "metadata": {
    "id": "b4ea99c5"
   },
   "source": [
    "## Defining new functions\n",
    "\n",
    "A **function definition** specifies the name of a new function and the sequence of statements that run when the function is called. Here's an example taken from the the chorus of [Radioactive](https://youtu.be/ktvTqknDobU?si=3UP4mKl4GL0eTnGk):"
   ]
  },
  {
   "cell_type": "code",
   "execution_count": null,
   "id": "d28f5c1a",
   "metadata": {
    "id": "d28f5c1a"
   },
   "outputs": [],
   "source": [
    "def print_chorus():\n",
    "    print(\"I'm waking up, I feel it in my bones\")\n",
    "    print(\"Enough to make my systems blow\")\n",
    "    print(\"Welcome to the new age, to the new age\")\n",
    "    print(\"Welcome to the new age, to the new age\")\n",
    "    print(\"Whoa\")\n",
    "    print(\"oh, oh, oh, oh\")\n",
    "    print(\"Whoa\")\n",
    "    print(\"oh, oh, oh, oh\")\n",
    "    print(\"I'm radioactive, radioactive\")\n",
    "    print(\"Whoa\")\n",
    "    print(\"oh, oh, oh, oh\")\n",
    "    print(\"Whoa\")\n",
    "    print(\"oh, oh, oh, oh\")\n",
    "    print(\"I'm radioactive, radioactive\")"
   ]
  },
  {
   "cell_type": "markdown",
   "id": "0174fc41",
   "metadata": {
    "id": "0174fc41"
   },
   "source": [
    "`def` is a keyword that indicates that this is a function definition.\n",
    "\n",
    "The name of the function is `print_chorus`.\n",
    "\n",
    "Anything that's a legal variable name is also a legal function name.\n",
    "\n",
    "The empty parentheses after the name indicate that this function doesn't take any arguments.\n",
    "\n",
    "The first line of the function definition is called the **header** -- the rest is called the **body**.\n",
    "\n",
    "The header has to end with a colon and the body has to be ***indented***. By convention, indentation is always four spaces.\n",
    "\n",
    "The body of this function is two print statements; in general, the body of a function can contain any number of statements of any kind."
   ]
  },
  {
   "cell_type": "markdown",
   "id": "WdxqV-Ab5CRO",
   "metadata": {
    "id": "WdxqV-Ab5CRO"
   },
   "source": [
    "#### Run print_chorus\n",
    "\n",
    "\n",
    "Now that we've defined a function, we can call it the same way we call  built-in functions."
   ]
  },
  {
   "cell_type": "code",
   "execution_count": null,
   "id": "9a048657",
   "metadata": {
    "colab": {
     "base_uri": "https://localhost:8080/"
    },
    "id": "9a048657",
    "outputId": "61a578aa-e3d3-4a80-8d8e-e2203460c983"
   },
   "outputs": [],
   "source": [
    "print_chorus()"
   ]
  },
  {
   "cell_type": "markdown",
   "id": "8f0fc45d",
   "metadata": {
    "id": "8f0fc45d"
   },
   "source": [
    "When the function runs, it executes the statements in the body, which display the chorus of the song."
   ]
  },
  {
   "cell_type": "markdown",
   "id": "6d35193e",
   "metadata": {
    "id": "6d35193e"
   },
   "source": [
    "## Parameters\n",
    "\n",
    "Some of the functions we have seen require arguments; for example, when you call `abs` you pass a number as an argument.\n",
    "Some functions take more than one argument; for example, `math.pow` takes two, the base and the exponent.\n",
    "\n",
    "Here is a definition for a function that takes an argument."
   ]
  },
  {
   "cell_type": "code",
   "execution_count": null,
   "id": "e5d00488",
   "metadata": {
    "id": "e5d00488"
   },
   "outputs": [],
   "source": [
    "def print_twice(text):\n",
    "    print(text)\n",
    "    print(text)"
   ]
  },
  {
   "cell_type": "markdown",
   "id": "1716e3dc",
   "metadata": {
    "id": "1716e3dc"
   },
   "source": [
    "The variable name in parentheses is a **parameter**.\n",
    "When the function is called, the value of the argument is assigned to the parameter.\n",
    "For example, we can call `print_twice` like this."
   ]
  },
  {
   "cell_type": "code",
   "execution_count": null,
   "id": "a3ad5f46",
   "metadata": {
    "colab": {
     "base_uri": "https://localhost:8080/"
    },
    "id": "a3ad5f46",
    "outputId": "00921f99-a639-4b8b-d17c-31e60eba0ed2"
   },
   "outputs": [],
   "source": [
    "print_twice(\"Welcome to the new age, to the new age\")"
   ]
  },
  {
   "cell_type": "markdown",
   "id": "ea8b8b6e",
   "metadata": {
    "id": "ea8b8b6e"
   },
   "source": [
    "You can also use a variable as an argument."
   ]
  },
  {
   "cell_type": "code",
   "execution_count": null,
   "id": "8f078ad0",
   "metadata": {
    "colab": {
     "base_uri": "https://localhost:8080/"
    },
    "id": "8f078ad0",
    "outputId": "a062eae5-c4ef-4fbc-b565-7a6e5caa2ccb"
   },
   "outputs": [],
   "source": [
    "line = \"Welcome to the new age, to the new age\"\n",
    "print_twice(line)"
   ]
  },
  {
   "cell_type": "markdown",
   "id": "5c1884ad",
   "metadata": {
    "id": "5c1884ad"
   },
   "source": [
    "In this example, the value of `line` gets assigned to the parameter `string`."
   ]
  },
  {
   "cell_type": "markdown",
   "id": "Q-qF0_tObE_X",
   "metadata": {
    "id": "Q-qF0_tObE_X"
   },
   "source": [
    "**Note that** the variable names do not affect the behaviour of the function.\n",
    "\n",
    "For example, we can pass an integer number as an argument (instead of a string) of the `print_twice()` and get the same behaviour, i.e. the argument is printed twice."
   ]
  },
  {
   "cell_type": "code",
   "execution_count": null,
   "id": "GysakLvJzvTb",
   "metadata": {
    "colab": {
     "base_uri": "https://localhost:8080/"
    },
    "id": "GysakLvJzvTb",
    "outputId": "5327b3ba-0396-432a-996f-4e4260401e05"
   },
   "outputs": [],
   "source": [
    "print_twice(10)"
   ]
  },
  {
   "cell_type": "markdown",
   "id": "a3e5a790",
   "metadata": {
    "id": "a3e5a790"
   },
   "source": [
    "## Calling functions\n",
    "\n",
    "Once you have defined a function, you can use it inside another function.\n",
    "\n",
    "In general, **you can put any kind of statement in the body of the function**.\n",
    "\n",
    "We'll start with the following function, which takes two parameters.\n"
   ]
  },
  {
   "cell_type": "code",
   "execution_count": null,
   "id": "e86bb32c",
   "metadata": {
    "id": "e86bb32c"
   },
   "outputs": [],
   "source": [
    "def repeat(word, n):\n",
    "    print(word * n)"
   ]
  },
  {
   "cell_type": "markdown",
   "id": "bdd4daa4",
   "metadata": {
    "id": "bdd4daa4"
   },
   "source": [
    "We can use this function to print the first line of the song, like this."
   ]
  },
  {
   "cell_type": "code",
   "execution_count": null,
   "id": "ec117999",
   "metadata": {
    "colab": {
     "base_uri": "https://localhost:8080/"
    },
    "id": "ec117999",
    "outputId": "a33f0208-0766-4b5a-d138-b08620921bfb"
   },
   "outputs": [],
   "source": [
    "oh = 'oh, '\n",
    "repeat(oh, 4)"
   ]
  },
  {
   "cell_type": "code",
   "execution_count": null,
   "id": "X6mO-PmUVmTd",
   "metadata": {
    "colab": {
     "base_uri": "https://localhost:8080/"
    },
    "id": "X6mO-PmUVmTd",
    "outputId": "f48e51ad-1a3a-4193-d9ec-9c7c4ab6637a"
   },
   "outputs": [],
   "source": [
    "repeat(4,2)"
   ]
  },
  {
   "cell_type": "code",
   "execution_count": null,
   "id": "ekIA2nYs1nIn",
   "metadata": {
    "colab": {
     "base_uri": "https://localhost:8080/"
    },
    "id": "ekIA2nYs1nIn",
    "outputId": "06b3ef7b-3b19-47bb-f423-f416f92cf438"
   },
   "outputs": [],
   "source": [
    "repeat(\"4\",2)"
   ]
  },
  {
   "cell_type": "markdown",
   "id": "0X6TJlQdeP6_",
   "metadata": {
    "id": "0X6TJlQdeP6_"
   },
   "source": [
    "## Arguments\n",
    "\n",
    "When you call a function, the expression in parenthesis is called an **argument**.\n",
    "\n",
    "Some of the functions we've seen so far take only one argument, like `int`."
   ]
  },
  {
   "cell_type": "code",
   "execution_count": null,
   "id": "RczxXd6UecCA",
   "metadata": {
    "colab": {
     "base_uri": "https://localhost:8080/"
    },
    "id": "RczxXd6UecCA",
    "outputId": "ba264444-972f-4de1-ce57-b6e46768a84e"
   },
   "outputs": [],
   "source": [
    "int('101')"
   ]
  },
  {
   "cell_type": "markdown",
   "id": "Y7WT5rflecq4",
   "metadata": {
    "id": "Y7WT5rflecq4"
   },
   "source": [
    "Some take two, like `math.pow`."
   ]
  },
  {
   "cell_type": "code",
   "execution_count": null,
   "id": "H7UeFWmqei9t",
   "metadata": {
    "colab": {
     "base_uri": "https://localhost:8080/"
    },
    "id": "H7UeFWmqei9t",
    "outputId": "e9ffbd83-f01b-4373-b98f-bffc76f96598"
   },
   "outputs": [],
   "source": [
    "repeat(\"oh \", 2)"
   ]
  },
  {
   "cell_type": "markdown",
   "id": "fdvcD-KReh4d",
   "metadata": {
    "id": "fdvcD-KReh4d"
   },
   "source": [
    "Some can take additional arguments that are optional.\n",
    "For example, `int` can take a second argument that specifies the base of the number."
   ]
  },
  {
   "cell_type": "code",
   "execution_count": null,
   "id": "XSj4U6VYeqoG",
   "metadata": {
    "colab": {
     "base_uri": "https://localhost:8080/"
    },
    "id": "XSj4U6VYeqoG",
    "outputId": "d81049ad-7dfe-44a4-d869-a254ffd3f2b8"
   },
   "outputs": [],
   "source": [
    "int('101', 2)"
   ]
  },
  {
   "cell_type": "markdown",
   "id": "W3i9bepqerct",
   "metadata": {
    "id": "W3i9bepqerct"
   },
   "source": [
    "The sequence of digits `101` in base 2 represents the number 5 in base 10.\n",
    "\n",
    "`round` also takes an optional second argument, which is the number of decimal places to round off to."
   ]
  },
  {
   "cell_type": "code",
   "execution_count": null,
   "id": "O0NO2Urrew1_",
   "metadata": {
    "colab": {
     "base_uri": "https://localhost:8080/"
    },
    "id": "O0NO2Urrew1_",
    "outputId": "1bd41d4a-5ac5-46d2-a7e8-2949d43ba933"
   },
   "outputs": [],
   "source": [
    "round(3.1415, 3)"
   ]
  },
  {
   "cell_type": "markdown",
   "id": "VEkeLOPhe0z5",
   "metadata": {
    "id": "VEkeLOPhe0z5"
   },
   "source": [
    "Some functions can take any number of arguments, like `print`.\n"
   ]
  },
  {
   "cell_type": "code",
   "execution_count": null,
   "id": "JL4re2Ote0cv",
   "metadata": {
    "colab": {
     "base_uri": "https://localhost:8080/"
    },
    "id": "JL4re2Ote0cv",
    "outputId": "880da476-03f7-448f-f3bb-cac8c32c2cf7"
   },
   "outputs": [],
   "source": [
    "print('Any', 'number', 'of', 'arguments')"
   ]
  },
  {
   "cell_type": "code",
   "execution_count": null,
   "id": "mm68EMFYe4pe",
   "metadata": {
    "colab": {
     "base_uri": "https://localhost:8080/"
    },
    "id": "mm68EMFYe4pe",
    "outputId": "4c46f5da-8e22-4128-c369-55bd35e1882c"
   },
   "outputs": [],
   "source": [
    "print('Any', 'number', 'of', 'arguments', \"this is the fifth argument\")"
   ]
  },
  {
   "cell_type": "code",
   "execution_count": null,
   "id": "u3NYom55_cj4",
   "metadata": {
    "colab": {
     "base_uri": "https://localhost:8080/"
    },
    "id": "u3NYom55_cj4",
    "outputId": "23147ce5-5068-4b74-8522-26c89c93f79c"
   },
   "outputs": [],
   "source": [
    "print()"
   ]
  },
  {
   "cell_type": "markdown",
   "id": "OFSeskU_e8ZF",
   "metadata": {
    "id": "OFSeskU_e8ZF"
   },
   "source": [
    "If you call a function and provide too many arguments, that's a `TypeError`.\n",
    "\n",
    "\n"
   ]
  },
  {
   "cell_type": "code",
   "execution_count": null,
   "id": "CuPPfugofA1M",
   "metadata": {
    "colab": {
     "base_uri": "https://localhost:8080/",
     "height": 55
    },
    "id": "CuPPfugofA1M",
    "outputId": "80ba19b5-3325-4b5f-bfcf-0101c45a7b5e"
   },
   "outputs": [],
   "source": [
    "%%expect TypeError\n",
    "\n",
    "float('123.0', 2)"
   ]
  },
  {
   "cell_type": "markdown",
   "id": "HGzB1C0XfE9v",
   "metadata": {
    "id": "HGzB1C0XfE9v"
   },
   "source": [
    "If you provide too few arguments, that's also a `TypeError`."
   ]
  },
  {
   "cell_type": "code",
   "execution_count": null,
   "id": "XC6kMIjzfEVN",
   "metadata": {
    "colab": {
     "base_uri": "https://localhost:8080/",
     "height": 55
    },
    "id": "XC6kMIjzfEVN",
    "outputId": "56b718b3-37b5-4f23-f9c7-2804a25d59fa"
   },
   "outputs": [],
   "source": [
    "%%expect TypeError\n",
    "\n",
    "abs()"
   ]
  },
  {
   "cell_type": "markdown",
   "id": "c3b16e3f",
   "metadata": {
    "id": "c3b16e3f"
   },
   "source": [
    "## Repetition\n",
    "\n",
    "In general, functions are useful since they give a name to a code block and this code block can be used multiple times in the program.\n",
    "\n",
    "There is another way to repeat the same sequence of instructions multiple times.\n",
    "\n",
    "This can be done by using a `for` statement.\n",
    "\n",
    "Here's a simple example."
   ]
  },
  {
   "cell_type": "code",
   "execution_count": null,
   "id": "29b7eff3",
   "metadata": {
    "colab": {
     "base_uri": "https://localhost:8080/"
    },
    "id": "29b7eff3",
    "outputId": "b3566bfd-e530-492e-d0ca-222f37b153e7"
   },
   "outputs": [],
   "source": [
    "for i in range(2):\n",
    "    print(i)"
   ]
  },
  {
   "cell_type": "markdown",
   "id": "bf320549",
   "metadata": {
    "id": "bf320549"
   },
   "source": [
    "The first line is a header that ends with a colon.\n",
    "\n",
    "The second line is the body, which has to be indented.\n",
    "\n",
    "The header starts with the keyword `for`, a new variable named `i`, and another keyword, `in`.\n",
    "\n",
    "It uses the `range` function to create a sequence of two values, which are `0` and `1`.\n",
    "\n",
    "In Python (as in most of the programming languages), when we start counting, we usually start from `0`.\n",
    "\n",
    "When the `for` statement runs, it assigns the first value from `range` to `i` and then runs the `print` function in the body, which displays `0`.\n",
    "\n",
    "When it gets to the end of the body, it loops back around to the header, which is why this statement is called a **loop**.\n",
    "\n",
    "The second time through the loop, it assigns the next value from `range` to `i`, and displays it.\n",
    "\n",
    "Then, because that's the last value from `range`, the loop ends."
   ]
  },
  {
   "cell_type": "code",
   "execution_count": null,
   "id": "O8g8Zds0dexK",
   "metadata": {
    "colab": {
     "base_uri": "https://localhost:8080/"
    },
    "id": "O8g8Zds0dexK",
    "outputId": "0fe46452-bdea-44ad-aadb-bbf6a87967dd"
   },
   "outputs": [],
   "source": [
    "for i in range(3):\n",
    "    print(i)"
   ]
  },
  {
   "cell_type": "code",
   "execution_count": null,
   "id": "H2v20uqefdlG",
   "metadata": {
    "colab": {
     "base_uri": "https://localhost:8080/"
    },
    "id": "H2v20uqefdlG",
    "outputId": "eee11f4d-ed3f-4d46-9bb9-c9542d0076ef"
   },
   "outputs": [],
   "source": [
    "for number in range(2):\n",
    "    print(number)"
   ]
  },
  {
   "cell_type": "code",
   "execution_count": null,
   "id": "ifVQa1oSfodD",
   "metadata": {
    "colab": {
     "base_uri": "https://localhost:8080/"
    },
    "id": "ifVQa1oSfodD",
    "outputId": "f8415973-5a3d-4dba-9eda-90b096079278"
   },
   "outputs": [],
   "source": [
    "for number in range(2):\n",
    "    print(number)\n",
    "    print(number + 10)"
   ]
  },
  {
   "cell_type": "markdown",
   "id": "b320ec90",
   "metadata": {
    "id": "b320ec90"
   },
   "source": [
    "## Variables and parameters are local\n",
    "\n",
    "When you create a variable inside a function, it is **local**, which\n",
    "means that it only exists inside the function.\n",
    "For example, the following function takes two arguments, concatenates them, and prints the result twice."
   ]
  },
  {
   "cell_type": "code",
   "execution_count": null,
   "id": "0db8408e",
   "metadata": {
    "id": "0db8408e"
   },
   "outputs": [],
   "source": [
    "def cat_twice(part1, part2):\n",
    "    cat = part1 + part2\n",
    "    print_twice(cat)"
   ]
  },
  {
   "cell_type": "markdown",
   "id": "3a35a6d0",
   "metadata": {
    "id": "3a35a6d0"
   },
   "source": [
    "Here's an example that uses it:"
   ]
  },
  {
   "cell_type": "code",
   "execution_count": null,
   "id": "1c556e48",
   "metadata": {
    "colab": {
     "base_uri": "https://localhost:8080/"
    },
    "id": "1c556e48",
    "outputId": "adaab7c6-843f-4033-f642-2893b9ae21b2"
   },
   "outputs": [],
   "source": [
    "line1 = 'Always look on the '\n",
    "line2 = 'bright side of life.'\n",
    "cat_twice(line1, line2)"
   ]
  },
  {
   "cell_type": "code",
   "execution_count": null,
   "id": "yNvwSLkH8ZQn",
   "metadata": {
    "colab": {
     "base_uri": "https://localhost:8080/"
    },
    "id": "yNvwSLkH8ZQn",
    "outputId": "c9445a6b-a90c-44b5-aec0-689204a3f7f3"
   },
   "outputs": [],
   "source": [
    "cat_twice(1,2)"
   ]
  },
  {
   "cell_type": "markdown",
   "id": "4ab4e008",
   "metadata": {
    "id": "4ab4e008"
   },
   "source": [
    "When `cat_twice` runs, it creates a local variable named `cat`, which is destroyed when the function ends.\n",
    "If we try to display it, we get a `NameError`:"
   ]
  },
  {
   "cell_type": "code",
   "execution_count": null,
   "id": "73f03eea",
   "metadata": {
    "colab": {
     "base_uri": "https://localhost:8080/",
     "height": 55
    },
    "id": "73f03eea",
    "outputId": "7645bfee-a93a-4399-8e61-062aaa403fae",
    "tags": []
   },
   "outputs": [],
   "source": [
    "%%expect NameError\n",
    "\n",
    "print(cat)"
   ]
  },
  {
   "cell_type": "code",
   "execution_count": null,
   "id": "2JOwGWuLks_I",
   "metadata": {
    "colab": {
     "base_uri": "https://localhost:8080/",
     "height": 55
    },
    "id": "2JOwGWuLks_I",
    "outputId": "e673ec07-3740-43c9-d77b-e44f9d62db05"
   },
   "outputs": [],
   "source": [
    "%%expect NameError\n",
    "\n",
    "print(part1)"
   ]
  },
  {
   "cell_type": "code",
   "execution_count": null,
   "id": "82nx1cVqkuvV",
   "metadata": {
    "colab": {
     "base_uri": "https://localhost:8080/",
     "height": 55
    },
    "id": "82nx1cVqkuvV",
    "outputId": "62b6471e-45b4-4ad6-cd3f-bab5dab1eb32"
   },
   "outputs": [],
   "source": [
    "%%expect NameError\n",
    "\n",
    "print(part2)"
   ]
  },
  {
   "cell_type": "markdown",
   "id": "3ae36c29",
   "metadata": {
    "id": "3ae36c29"
   },
   "source": [
    "Outside of the function, `cat` is not defined.\n",
    "\n",
    "Parameters are also local.\n",
    "For example, outside `cat_twice`, there is no such thing as `part1` or `part2`."
   ]
  },
  {
   "cell_type": "markdown",
   "id": "0a662dbf",
   "metadata": {},
   "source": [
    "## Return Values\n",
    "\n",
    "In previous chapters, we've used built-in functions -- like `abs` and `round` -- and functions in the math module -- like `sqrt` and `pow`.\n",
    "When you call one of these functions, it returns a value you can assign to a variable or use as part of an expression.\n",
    "\n",
    "The functions we have written so far are different.\n",
    "Some use the `print` function to display values, and some use turtle functions to draw figures.\n",
    "But they don't return values we assign to variables or use in expressions.\n",
    "\n",
    "We'll now see how to write functions that return values."
   ]
  },
  {
   "cell_type": "markdown",
   "id": "c69b603b",
   "metadata": {},
   "source": [
    "## Some functions have return values\n",
    "\n",
    "When you call a function like `math.sqrt`, the result is called a **return value**.\n",
    "If the function call appears at the end of a cell, Jupyter displays the return value immediately."
   ]
  },
  {
   "cell_type": "code",
   "execution_count": null,
   "id": "a222c246",
   "metadata": {},
   "outputs": [],
   "source": [
    "import math\n",
    "\n",
    "math.sqrt(42 / math.pi)"
   ]
  },
  {
   "cell_type": "markdown",
   "id": "e823a5a7",
   "metadata": {},
   "source": [
    "If you assign the return value to a variable, it doesn't get displayed."
   ]
  },
  {
   "cell_type": "code",
   "execution_count": null,
   "id": "de42de6e",
   "metadata": {},
   "outputs": [],
   "source": [
    "radius = math.sqrt(42 / math.pi)"
   ]
  },
  {
   "cell_type": "markdown",
   "id": "cfb07510",
   "metadata": {},
   "source": [
    "But you can display it later."
   ]
  },
  {
   "cell_type": "code",
   "execution_count": null,
   "id": "81639f53",
   "metadata": {},
   "outputs": [],
   "source": [
    "radius"
   ]
  },
  {
   "cell_type": "markdown",
   "id": "179f247c",
   "metadata": {},
   "source": [
    "Or you can use the return value as part of an expression."
   ]
  },
  {
   "cell_type": "code",
   "execution_count": null,
   "id": "07e087f4",
   "metadata": {},
   "outputs": [],
   "source": [
    "radius + math.sqrt(42 / math.pi)"
   ]
  },
  {
   "cell_type": "markdown",
   "id": "885ac36b",
   "metadata": {},
   "source": [
    "Here's an example of a function that returns a value."
   ]
  },
  {
   "cell_type": "code",
   "execution_count": null,
   "id": "e17f0236",
   "metadata": {},
   "outputs": [],
   "source": [
    "def circle_area(radius):\n",
    "    area = math.pi * radius**2\n",
    "    return area"
   ]
  },
  {
   "cell_type": "markdown",
   "id": "6c0f5a98",
   "metadata": {},
   "source": [
    "`circle_area` takes `radius` as a parameter and computes the area of a circle with that radius.\n",
    "\n",
    "The last line is a `return` statement that returns the value of `area`.\n",
    "\n",
    "If we call the function like this, Jupyter displays the return value.\n"
   ]
  },
  {
   "cell_type": "code",
   "execution_count": null,
   "id": "12fb61e2",
   "metadata": {},
   "outputs": [],
   "source": [
    "circle_area(radius)"
   ]
  },
  {
   "cell_type": "markdown",
   "id": "73ac55ef",
   "metadata": {},
   "source": [
    "We can assign the return value to a variable."
   ]
  },
  {
   "cell_type": "code",
   "execution_count": null,
   "id": "493f64c7",
   "metadata": {},
   "outputs": [],
   "source": [
    "a = circle_area(radius)"
   ]
  },
  {
   "cell_type": "markdown",
   "id": "762d82c3",
   "metadata": {},
   "source": [
    "Or use it as part of an expression."
   ]
  },
  {
   "cell_type": "code",
   "execution_count": null,
   "id": "889d0aea",
   "metadata": {},
   "outputs": [],
   "source": [
    "circle_area(radius) + 2 * circle_area(radius / 2)"
   ]
  },
  {
   "cell_type": "markdown",
   "id": "0599d03d",
   "metadata": {},
   "source": [
    "Later we can display the value of the variable we assigned the result to."
   ]
  },
  {
   "cell_type": "code",
   "execution_count": null,
   "id": "52ddcd9c",
   "metadata": {},
   "outputs": [],
   "source": [
    "a"
   ]
  },
  {
   "cell_type": "markdown",
   "id": "bd02935e",
   "metadata": {},
   "source": [
    "But we can't access `area`."
   ]
  },
  {
   "cell_type": "code",
   "execution_count": null,
   "id": "80fb23b6",
   "metadata": {},
   "outputs": [],
   "source": [
    "%%expect NameError\n",
    "\n",
    "area"
   ]
  },
  {
   "cell_type": "markdown",
   "id": "7c79afb1",
   "metadata": {},
   "source": [
    "`area` is a local variable in a function, so we can't access it from outside the function."
   ]
  },
  {
   "cell_type": "markdown",
   "id": "bc50c8f7",
   "metadata": {},
   "source": [
    "## And some have None\n",
    "\n",
    "If a function doesn't have a `return` statement, it returns `None`, which is a special value like `True` and `False`.\n",
    "For example, here's the `repeat` function from Chapter 3."
   ]
  },
  {
   "cell_type": "code",
   "execution_count": null,
   "id": "e35fb91b",
   "metadata": {},
   "outputs": [],
   "source": [
    "def repeat(word, n):\n",
    "    print(word * n)"
   ]
  },
  {
   "cell_type": "markdown",
   "id": "d1fcae8f",
   "metadata": {},
   "source": [
    "If we call it like this, it displays the first line of the Monty Python song \"Finland\"."
   ]
  },
  {
   "cell_type": "code",
   "execution_count": null,
   "id": "df4ae17d",
   "metadata": {},
   "outputs": [],
   "source": [
    "repeat('Finland, ', 3)"
   ]
  },
  {
   "cell_type": "markdown",
   "id": "27146caf",
   "metadata": {},
   "source": [
    "This function uses the `print` function to display a string, but it does not use a `return` statement to return a value.\n",
    "If we assign the result to a variable, it displays the string anyway. "
   ]
  },
  {
   "cell_type": "code",
   "execution_count": null,
   "id": "006d2684",
   "metadata": {},
   "outputs": [],
   "source": [
    "result = repeat('Finland, ', 3)"
   ]
  },
  {
   "cell_type": "markdown",
   "id": "7b149cdd",
   "metadata": {},
   "source": [
    "And if we display the value of the variable, we get nothing."
   ]
  },
  {
   "cell_type": "code",
   "execution_count": null,
   "id": "baba3a36",
   "metadata": {},
   "outputs": [],
   "source": [
    "result"
   ]
  },
  {
   "cell_type": "markdown",
   "id": "2c6b1e79",
   "metadata": {},
   "source": [
    "`result` actually has a value, but Jupyter doesn't show it.\n",
    "However, we can display it like this."
   ]
  },
  {
   "cell_type": "code",
   "execution_count": null,
   "id": "53184af3",
   "metadata": {},
   "outputs": [],
   "source": [
    "print(result)"
   ]
  },
  {
   "cell_type": "markdown",
   "id": "46b24a46",
   "metadata": {},
   "source": [
    "The return value from `repeat` is `None`.\n",
    "\n",
    "Now here's a function similar to `repeat` except that has a return value."
   ]
  },
  {
   "cell_type": "code",
   "execution_count": null,
   "id": "e9ba299a",
   "metadata": {},
   "outputs": [],
   "source": [
    "def repeat_string(word, n):\n",
    "    return word * n"
   ]
  },
  {
   "cell_type": "markdown",
   "id": "dbf51197",
   "metadata": {},
   "source": [
    "Notice that we can use an expression in a `return` statement, not just a variable.\n",
    "\n",
    "With this version, we can assign the result to a variable.\n",
    "When the function runs, it doesn't display anything."
   ]
  },
  {
   "cell_type": "code",
   "execution_count": null,
   "id": "5873d4b3",
   "metadata": {},
   "outputs": [],
   "source": [
    "line = repeat_string('Spam, ', 4)"
   ]
  },
  {
   "cell_type": "markdown",
   "id": "ac83d3df",
   "metadata": {},
   "source": [
    "But later we can display the value assigned to `line`."
   ]
  },
  {
   "cell_type": "code",
   "execution_count": null,
   "id": "7063f74d",
   "metadata": {},
   "outputs": [],
   "source": [
    "line"
   ]
  },
  {
   "cell_type": "markdown",
   "id": "8505c9e8",
   "metadata": {},
   "source": [
    "A function like this is called a **pure function** because it doesn't display anything or have any other effect -- other than returning a value."
   ]
  },
  {
   "cell_type": "markdown",
   "id": "5690cfc0",
   "metadata": {
    "id": "5690cfc0"
   },
   "source": [
    "## Tracebacks\n",
    "\n",
    "When a runtime error occurs in a function, Python displays the name of the function that was running, the name of the function that called it, and so on, up the stack.\n",
    "\n",
    "To see an example, I'll define a version of `print_twice` that contains an error -- it tries to print `cat`, which is a local variable in another function."
   ]
  },
  {
   "cell_type": "code",
   "execution_count": null,
   "id": "886519cf",
   "metadata": {
    "id": "886519cf"
   },
   "outputs": [],
   "source": [
    "def print_twice(string):\n",
    "    print(cat)            # NameError\n",
    "    print(cat)"
   ]
  },
  {
   "cell_type": "markdown",
   "id": "d7c0713b",
   "metadata": {
    "id": "d7c0713b"
   },
   "source": [
    "Now here's what happens when we run `cat_twice`."
   ]
  },
  {
   "cell_type": "code",
   "execution_count": null,
   "id": "1fe8ee82",
   "metadata": {
    "colab": {
     "base_uri": "https://localhost:8080/"
    },
    "id": "1fe8ee82",
    "outputId": "7a048da5-4555-4423-aa0a-f51cae93377b",
    "tags": []
   },
   "outputs": [],
   "source": [
    "# This cell tells Jupyter to provide detailed debugging information\n",
    "# when a runtime error occurs, including a traceback.\n",
    "\n",
    "%xmode Verbose"
   ]
  },
  {
   "cell_type": "code",
   "execution_count": null,
   "id": "d9082f88",
   "metadata": {
    "colab": {
     "base_uri": "https://localhost:8080/",
     "height": 361
    },
    "id": "d9082f88",
    "outputId": "cd3744cf-908c-473f-8425-92cae07622fc",
    "tags": []
   },
   "outputs": [],
   "source": [
    "%%expect NameError\n",
    "\n",
    "cat_twice(line1, line2)"
   ]
  },
  {
   "cell_type": "markdown",
   "id": "2f4defcf",
   "metadata": {
    "id": "2f4defcf"
   },
   "source": [
    "The error message includes a **traceback**, which shows the function that was running when the error occurred, the function that called it, and so on.\n",
    "\n",
    "In this example, it shows that `cat_twice` called `print_twice`, and the error occurred in a `print_twice`."
   ]
  },
  {
   "cell_type": "markdown",
   "id": "c6dd486e",
   "metadata": {
    "id": "c6dd486e"
   },
   "source": [
    "## Debugging\n",
    "\n",
    "**Debugging**  is the process of finding the root cause of programm errors (bugs) and devising possible fixes for bugs.\n",
    "\n",
    "Debugging can be frustrating, but it is also challenging, interesting, and sometimes even fun.\n",
    "\n",
    "It is <u>***one of the most important skills you can learn***</u>.\n",
    "\n",
    "Debugging is also like experimental science.\n",
    "\n",
    "Once you have an idea about what is going wrong, you **modify your program** and **try again**.\n",
    "\n",
    "If your hypothesis was **correct**, you can predict the result of the **modification**, and you take a step closer to a working program.\n",
    "\n",
    "If your hypothesis was wrong, you have to come up with a new one."
   ]
  },
  {
   "cell_type": "markdown",
   "id": "374b4696",
   "metadata": {
    "id": "374b4696"
   },
   "source": [
    "## Why functions?\n",
    "\n",
    "It may not be clear yet why it is worth the trouble to divide a program into\n",
    "functions.\n",
    "There are several reasons:\n",
    "\n",
    "-   Creating a new function gives you an opportunity to **name a group of\n",
    "    statements**, which makes your program **easier to read and debug**.\n",
    "\n",
    "-   Functions can **make a program smaller** by eliminating repetitive code.\n",
    "    Later, if you make a change, you only have to make it in one place.\n",
    "\n",
    "-   Dividing a long program into functions allows you to **debug the parts\n",
    "    one at a time** and then assemble them into a working whole.\n",
    "\n",
    "-   Well-designed **functions are often useful for many programs**. Once you\n",
    "    write and debug one, you can **reuse** it."
   ]
  },
  {
   "cell_type": "markdown",
   "id": "d4e95e63",
   "metadata": {
    "id": "d4e95e63"
   },
   "source": [
    "## Glossary\n",
    "\n",
    "**function definition:**\n",
    "A statement that creates a function.\n",
    "\n",
    "**header:**\n",
    " The first line of a function definition.\n",
    "\n",
    "**body:**\n",
    " The sequence of statements inside a function definition.\n",
    "\n",
    "**function object:**\n",
    "A value created by a function definition.\n",
    "The name of the function is a variable that refers to a function object.\n",
    "\n",
    "**parameter:**\n",
    " A name used inside a function to refer to the value passed as an argument.\n",
    "\n",
    "**loop:**\n",
    " A statement that runs one or more statements, often repeatedly.\n",
    "\n",
    "**local variable:**\n",
    "A variable defined inside a function, and which can only be accessed inside the function.\n",
    "\n",
    "**stack diagram:**\n",
    "A graphical representation of a stack of functions, their variables, and the values they refer to.\n",
    "\n",
    "**frame:**\n",
    " A box in a stack diagram that represents a function call.\n",
    " It contains the local variables and parameters of the function.\n",
    "\n",
    "**traceback:**\n",
    " A list of the functions that are executing, printed when an exception occurs."
   ]
  },
  {
   "cell_type": "markdown",
   "id": "eca485f2",
   "metadata": {
    "id": "eca485f2"
   },
   "source": [
    "## Exercises"
   ]
  },
  {
   "cell_type": "code",
   "execution_count": null,
   "id": "3f77b428",
   "metadata": {
    "colab": {
     "base_uri": "https://localhost:8080/"
    },
    "id": "3f77b428",
    "outputId": "59df1588-7f78-4990-c30e-24a031ca7bbc",
    "tags": []
   },
   "outputs": [],
   "source": [
    "# This cell tells Jupyter to provide detailed debugging information\n",
    "# when a runtime error occurs. Run it before working on the exercises.\n",
    "\n",
    "%xmode Verbose"
   ]
  },
  {
   "cell_type": "markdown",
   "id": "b7157b09",
   "metadata": {
    "id": "b7157b09"
   },
   "source": [
    "### Exercise\n",
    "\n",
    "Write a function named `print_right` that takes a string named `text` as a parameter and prints the string with enough leading spaces that the last letter of the string is in the 40th column of the display."
   ]
  },
  {
   "cell_type": "code",
   "execution_count": null,
   "id": "a6004271",
   "metadata": {
    "id": "a6004271"
   },
   "outputs": [],
   "source": [
    "# Solution goes here\n",
    "def print_right(text):\n",
    "  b = 40 - len(text)\n",
    "  print(\" \"*b + text)\n",
    "  #print(text)"
   ]
  },
  {
   "cell_type": "code",
   "execution_count": null,
   "id": "l6MLqrLALQz3",
   "metadata": {
    "id": "l6MLqrLALQz3"
   },
   "outputs": [],
   "source": [
    "# Solution goes here\n",
    "def print_right(text):\n",
    "  b = 40 - len(text)\n",
    "  for i in range(b):\n",
    "    print(\" \", end=\"\")\n",
    "  print(text)\n",
    "  #print(text)"
   ]
  },
  {
   "cell_type": "markdown",
   "id": "428fbee5",
   "metadata": {
    "id": "428fbee5"
   },
   "source": [
    "Hint: Use the `len` function, the string concatenation operator (`+`) and the string repetition operator (`*`).\n",
    "\n",
    "Here's an example that shows how it should work."
   ]
  },
  {
   "cell_type": "code",
   "execution_count": null,
   "id": "f142ce6a",
   "metadata": {
    "colab": {
     "base_uri": "https://localhost:8080/"
    },
    "id": "f142ce6a",
    "outputId": "e8ca4390-38f9-4119-9189-2da23c997b50",
    "tags": []
   },
   "outputs": [],
   "source": [
    "print_right(\"Monty\")\n",
    "print_right(\"Python's\")\n",
    "print_right(\"Flying Circus\")"
   ]
  },
  {
   "cell_type": "markdown",
   "id": "JqtztFywYJnA",
   "metadata": {
    "id": "JqtztFywYJnA"
   },
   "source": [
    "which should print\n",
    "\n",
    "```\n",
    "                                   Monty\n",
    "                                Python's\n",
    "                           Flying Circus\n",
    "```"
   ]
  },
  {
   "cell_type": "markdown",
   "id": "b47467fa",
   "metadata": {
    "id": "b47467fa"
   },
   "source": [
    "### Exercise\n",
    "\n",
    "Write a function called `triangle` that takes a string and an integer and draws a triangle with a given height, made up using copies of the string. Here's an example of a pyramid with `5` levels, using the string `'L'`.\n",
    "\n",
    "\n",
    "```\n",
    "L\n",
    "LL\n",
    "LLL\n",
    "LLLL\n",
    "LLLLL\n",
    "```"
   ]
  },
  {
   "cell_type": "code",
   "execution_count": null,
   "id": "7aa95014",
   "metadata": {
    "id": "7aa95014"
   },
   "outputs": [],
   "source": [
    "# Solution goes here\n",
    "def triangle(block, height):\n",
    "  for i in range(height):\n",
    "    print(block * (i +1) )"
   ]
  },
  {
   "cell_type": "code",
   "execution_count": null,
   "id": "b8146a0d",
   "metadata": {
    "colab": {
     "base_uri": "https://localhost:8080/"
    },
    "id": "b8146a0d",
    "outputId": "dde8119c-62d9-4fac-f38a-7f9bd23c2a86",
    "scrolled": true,
    "tags": []
   },
   "outputs": [],
   "source": [
    "triangle('L', 10)"
   ]
  },
  {
   "cell_type": "markdown",
   "id": "6q46vQNXYeUI",
   "metadata": {
    "id": "6q46vQNXYeUI"
   },
   "source": [
    "which should print:\n",
    "\n",
    "```\n",
    "L\n",
    "LL\n",
    "LLL\n",
    "LLLL\n",
    "LLLLL\n",
    "```"
   ]
  },
  {
   "cell_type": "markdown",
   "id": "4a28f635",
   "metadata": {
    "id": "4a28f635"
   },
   "source": [
    "### Exercise\n",
    "\n",
    "Write a function called `rectangle` that takes a string and two integers and draws a rectangle with the given width and height, made up using copies of the string. Here's an example of a rectangle with width `5` and height `4`, made up of the string `'H'`."
   ]
  },
  {
   "cell_type": "code",
   "execution_count": null,
   "id": "bcedab79",
   "metadata": {
    "id": "bcedab79"
   },
   "outputs": [],
   "source": [
    "# Solution goes here\n",
    "# Solution goes here\n",
    "def rectangle(word, n, altezza):\n",
    "  for i in range(altezza):\n",
    "    print(word * n)\n",
    "    #repeat(word, n)\n"
   ]
  },
  {
   "cell_type": "code",
   "execution_count": null,
   "id": "73b0c0f6",
   "metadata": {
    "colab": {
     "base_uri": "https://localhost:8080/"
    },
    "id": "73b0c0f6",
    "outputId": "5da72f65-a1cb-40da-9b54-d2059439bd11",
    "scrolled": true,
    "tags": []
   },
   "outputs": [],
   "source": [
    "rectangle('H', 5, 4)"
   ]
  },
  {
   "cell_type": "markdown",
   "id": "t7IJEQN4YihN",
   "metadata": {
    "id": "t7IJEQN4YihN"
   },
   "source": [
    "which should print\n",
    "\n",
    "```\n",
    "HHHHH\n",
    "HHHHH\n",
    "HHHHH\n",
    "HHHHH\n",
    "```"
   ]
  },
  {
   "cell_type": "markdown",
   "id": "44a5de6f",
   "metadata": {
    "id": "44a5de6f"
   },
   "source": [
    "### Exercise\n",
    "\n",
    "The song \"99 Bottles of Beer\" starts with this verse:\n",
    "\n",
    "> 99 bottles of beer on the wall  \n",
    "> 99 bottles of beer  \n",
    "> Take one down, pass it around  \n",
    "> 98 bottles of beer on the wall  \n",
    "\n",
    "Then the second verse is the same, except that it starts with 98 bottles and ends with 97. The song continues -- for a very long time -- until there are 0 bottles of beer.\n",
    "\n",
    "Write a function called `bottle_verse` that takes a number as a parameter and displays the verse that starts with the given number of bottles.\n",
    "\n",
    "Hint: Consider starting with a function that can print the first, second, or last line of the verse, and then use it to write `bottle_verse`."
   ]
  },
  {
   "cell_type": "code",
   "execution_count": null,
   "id": "53424b43",
   "metadata": {
    "id": "53424b43"
   },
   "outputs": [],
   "source": [
    "# Solution goes here\n",
    "# Solution goes here\n",
    "def bottle_verse(n):\n",
    "  print(str(n)+\" bottles of beer on the wall\")\n",
    "  print(str(n)+\" bottles of beer\")\n",
    "  print(\"Take one down, pass it around\")\n",
    "  print(str(n -1 )+\" bottles of beer on the wall\")\n",
    "  print()"
   ]
  },
  {
   "cell_type": "code",
   "execution_count": null,
   "id": "61010ffb",
   "metadata": {
    "id": "61010ffb"
   },
   "outputs": [],
   "source": [
    "# Solution goes here"
   ]
  },
  {
   "cell_type": "markdown",
   "id": "ee0076dd",
   "metadata": {
    "id": "ee0076dd",
    "tags": []
   },
   "source": [
    "Use this function call to display the first verse."
   ]
  },
  {
   "cell_type": "code",
   "execution_count": null,
   "id": "47a91c7d",
   "metadata": {
    "id": "47a91c7d",
    "tags": []
   },
   "outputs": [],
   "source": [
    "bottle_verse(99)"
   ]
  },
  {
   "cell_type": "markdown",
   "id": "DyStDl8PYt97",
   "metadata": {
    "id": "DyStDl8PYt97"
   },
   "source": [
    "which should print\n",
    "\n",
    "```\n",
    "99 bottles of beer on the wall\n",
    "99 bottles of beer\n",
    "Take one down, pass it around\n",
    "98 bottles of beer on the wall\n",
    "```"
   ]
  },
  {
   "cell_type": "markdown",
   "id": "42c237c6",
   "metadata": {
    "id": "42c237c6",
    "tags": []
   },
   "source": [
    "If you want to print the whole song, you can use this `for` loop, which counts down from `99` to `1`.\n",
    "You don't have to completely understand this example---we'll learn more about `for` loops and the `range` function later."
   ]
  },
  {
   "cell_type": "code",
   "execution_count": null,
   "id": "336cdfa2",
   "metadata": {
    "id": "336cdfa2",
    "tags": []
   },
   "outputs": [],
   "source": [
    "for n in range(99, 0, -1):\n",
    "    bottle_verse(n)\n",
    "    print()"
   ]
  },
  {
   "cell_type": "markdown",
   "id": "FCw7_bdtYrXT",
   "metadata": {
    "id": "FCw7_bdtYrXT"
   },
   "source": [
    "which should print\n",
    "\n",
    "```\n",
    "99 bottles of beer on the wall\n",
    "99 bottles of beer\n",
    "Take one down, pass it around\n",
    "98 bottles of beer on the wall\n",
    "\n",
    "98 bottles of beer on the wall\n",
    "98 bottles of beer\n",
    "Take one down, pass it around\n",
    "97 bottles of beer on the wall\n",
    "\n",
    "97 bottles of beer on the wall\n",
    "97 bottles of beer\n",
    "Take one down, pass it around\n",
    "96 bottles of beer on the wall\n",
    "\n",
    "96 bottles of beer on the wall\n",
    "96 bottles of beer\n",
    "Take one down, pass it around\n",
    "95 bottles of beer on the wall\n",
    "\n",
    "95 bottles of beer on the wall\n",
    "95 bottles of beer\n",
    "Take one down, pass it around\n",
    "94 bottles of beer on the wall\n",
    "\n",
    "94 bottles of beer on the wall\n",
    "94 bottles of beer\n",
    "Take one down, pass it around\n",
    "93 bottles of beer on the wall\n",
    "\n",
    "93 bottles of beer on the wall\n",
    "93 bottles of beer\n",
    "Take one down, pass it around\n",
    "92 bottles of beer on the wall\n",
    "\n",
    "92 bottles of beer on the wall\n",
    "92 bottles of beer\n",
    "Take one down, pass it around\n",
    "91 bottles of beer on the wall\n",
    "\n",
    "91 bottles of beer on the wall\n",
    "91 bottles of beer\n",
    "Take one down, pass it around\n",
    "90 bottles of beer on the wall\n",
    "\n",
    "90 bottles of beer on the wall\n",
    "90 bottles of beer\n",
    "Take one down, pass it around\n",
    "89 bottles of beer on the wall\n",
    "\n",
    "89 bottles of beer on the wall\n",
    "89 bottles of beer\n",
    "Take one down, pass it around\n",
    "88 bottles of beer on the wall\n",
    "\n",
    "88 bottles of beer on the wall\n",
    "88 bottles of beer\n",
    "Take one down, pass it around\n",
    "87 bottles of beer on the wall\n",
    "\n",
    "87 bottles of beer on the wall\n",
    "87 bottles of beer\n",
    "Take one down, pass it around\n",
    "86 bottles of beer on the wall\n",
    "\n",
    "86 bottles of beer on the wall\n",
    "86 bottles of beer\n",
    "Take one down, pass it around\n",
    "85 bottles of beer on the wall\n",
    "\n",
    "85 bottles of beer on the wall\n",
    "85 bottles of beer\n",
    "Take one down, pass it around\n",
    "84 bottles of beer on the wall\n",
    "\n",
    "84 bottles of beer on the wall\n",
    "84 bottles of beer\n",
    "Take one down, pass it around\n",
    "83 bottles of beer on the wall\n",
    "\n",
    "83 bottles of beer on the wall\n",
    "83 bottles of beer\n",
    "Take one down, pass it around\n",
    "82 bottles of beer on the wall\n",
    "\n",
    "82 bottles of beer on the wall\n",
    "82 bottles of beer\n",
    "Take one down, pass it around\n",
    "81 bottles of beer on the wall\n",
    "\n",
    "81 bottles of beer on the wall\n",
    "81 bottles of beer\n",
    "Take one down, pass it around\n",
    "80 bottles of beer on the wall\n",
    "\n",
    "80 bottles of beer on the wall\n",
    "80 bottles of beer\n",
    "Take one down, pass it around\n",
    "79 bottles of beer on the wall\n",
    "\n",
    "79 bottles of beer on the wall\n",
    "79 bottles of beer\n",
    "Take one down, pass it around\n",
    "78 bottles of beer on the wall\n",
    "\n",
    "78 bottles of beer on the wall\n",
    "78 bottles of beer\n",
    "Take one down, pass it around\n",
    "77 bottles of beer on the wall\n",
    "\n",
    "77 bottles of beer on the wall\n",
    "77 bottles of beer\n",
    "Take one down, pass it around\n",
    "76 bottles of beer on the wall\n",
    "\n",
    "76 bottles of beer on the wall\n",
    "76 bottles of beer\n",
    "Take one down, pass it around\n",
    "75 bottles of beer on the wall\n",
    "\n",
    "75 bottles of beer on the wall\n",
    "75 bottles of beer\n",
    "Take one down, pass it around\n",
    "74 bottles of beer on the wall\n",
    "\n",
    "74 bottles of beer on the wall\n",
    "74 bottles of beer\n",
    "Take one down, pass it around\n",
    "73 bottles of beer on the wall\n",
    "\n",
    "73 bottles of beer on the wall\n",
    "73 bottles of beer\n",
    "Take one down, pass it around\n",
    "72 bottles of beer on the wall\n",
    "\n",
    "72 bottles of beer on the wall\n",
    "72 bottles of beer\n",
    "Take one down, pass it around\n",
    "71 bottles of beer on the wall\n",
    "\n",
    "71 bottles of beer on the wall\n",
    "71 bottles of beer\n",
    "Take one down, pass it around\n",
    "70 bottles of beer on the wall\n",
    "\n",
    "70 bottles of beer on the wall\n",
    "70 bottles of beer\n",
    "Take one down, pass it around\n",
    "69 bottles of beer on the wall\n",
    "\n",
    "69 bottles of beer on the wall\n",
    "69 bottles of beer\n",
    "Take one down, pass it around\n",
    "68 bottles of beer on the wall\n",
    "\n",
    "68 bottles of beer on the wall\n",
    "68 bottles of beer\n",
    "Take one down, pass it around\n",
    "67 bottles of beer on the wall\n",
    "\n",
    "67 bottles of beer on the wall\n",
    "67 bottles of beer\n",
    "Take one down, pass it around\n",
    "66 bottles of beer on the wall\n",
    "\n",
    "66 bottles of beer on the wall\n",
    "66 bottles of beer\n",
    "Take one down, pass it around\n",
    "65 bottles of beer on the wall\n",
    "\n",
    "65 bottles of beer on the wall\n",
    "65 bottles of beer\n",
    "Take one down, pass it around\n",
    "64 bottles of beer on the wall\n",
    "\n",
    "64 bottles of beer on the wall\n",
    "64 bottles of beer\n",
    "Take one down, pass it around\n",
    "63 bottles of beer on the wall\n",
    "\n",
    "63 bottles of beer on the wall\n",
    "63 bottles of beer\n",
    "Take one down, pass it around\n",
    "62 bottles of beer on the wall\n",
    "\n",
    "62 bottles of beer on the wall\n",
    "62 bottles of beer\n",
    "Take one down, pass it around\n",
    "61 bottles of beer on the wall\n",
    "\n",
    "61 bottles of beer on the wall\n",
    "61 bottles of beer\n",
    "Take one down, pass it around\n",
    "60 bottles of beer on the wall\n",
    "\n",
    "60 bottles of beer on the wall\n",
    "60 bottles of beer\n",
    "Take one down, pass it around\n",
    "59 bottles of beer on the wall\n",
    "\n",
    "59 bottles of beer on the wall\n",
    "59 bottles of beer\n",
    "Take one down, pass it around\n",
    "58 bottles of beer on the wall\n",
    "\n",
    "58 bottles of beer on the wall\n",
    "58 bottles of beer\n",
    "Take one down, pass it around\n",
    "57 bottles of beer on the wall\n",
    "\n",
    "57 bottles of beer on the wall\n",
    "57 bottles of beer\n",
    "Take one down, pass it around\n",
    "56 bottles of beer on the wall\n",
    "\n",
    "56 bottles of beer on the wall\n",
    "56 bottles of beer\n",
    "Take one down, pass it around\n",
    "55 bottles of beer on the wall\n",
    "\n",
    "55 bottles of beer on the wall\n",
    "55 bottles of beer\n",
    "Take one down, pass it around\n",
    "54 bottles of beer on the wall\n",
    "\n",
    "54 bottles of beer on the wall\n",
    "54 bottles of beer\n",
    "Take one down, pass it around\n",
    "53 bottles of beer on the wall\n",
    "\n",
    "53 bottles of beer on the wall\n",
    "53 bottles of beer\n",
    "Take one down, pass it around\n",
    "52 bottles of beer on the wall\n",
    "\n",
    "52 bottles of beer on the wall\n",
    "52 bottles of beer\n",
    "Take one down, pass it around\n",
    "51 bottles of beer on the wall\n",
    "\n",
    "51 bottles of beer on the wall\n",
    "51 bottles of beer\n",
    "Take one down, pass it around\n",
    "50 bottles of beer on the wall\n",
    "\n",
    "50 bottles of beer on the wall\n",
    "50 bottles of beer\n",
    "Take one down, pass it around\n",
    "49 bottles of beer on the wall\n",
    "\n",
    "49 bottles of beer on the wall\n",
    "49 bottles of beer\n",
    "Take one down, pass it around\n",
    "48 bottles of beer on the wall\n",
    "\n",
    "48 bottles of beer on the wall\n",
    "48 bottles of beer\n",
    "Take one down, pass it around\n",
    "47 bottles of beer on the wall\n",
    "\n",
    "47 bottles of beer on the wall\n",
    "47 bottles of beer\n",
    "Take one down, pass it around\n",
    "46 bottles of beer on the wall\n",
    "\n",
    "46 bottles of beer on the wall\n",
    "46 bottles of beer\n",
    "Take one down, pass it around\n",
    "45 bottles of beer on the wall\n",
    "\n",
    "45 bottles of beer on the wall\n",
    "45 bottles of beer\n",
    "Take one down, pass it around\n",
    "44 bottles of beer on the wall\n",
    "\n",
    "44 bottles of beer on the wall\n",
    "44 bottles of beer\n",
    "Take one down, pass it around\n",
    "43 bottles of beer on the wall\n",
    "\n",
    "43 bottles of beer on the wall\n",
    "43 bottles of beer\n",
    "Take one down, pass it around\n",
    "42 bottles of beer on the wall\n",
    "\n",
    "42 bottles of beer on the wall\n",
    "42 bottles of beer\n",
    "Take one down, pass it around\n",
    "41 bottles of beer on the wall\n",
    "\n",
    "41 bottles of beer on the wall\n",
    "41 bottles of beer\n",
    "Take one down, pass it around\n",
    "40 bottles of beer on the wall\n",
    "\n",
    "40 bottles of beer on the wall\n",
    "40 bottles of beer\n",
    "Take one down, pass it around\n",
    "39 bottles of beer on the wall\n",
    "\n",
    "39 bottles of beer on the wall\n",
    "39 bottles of beer\n",
    "Take one down, pass it around\n",
    "38 bottles of beer on the wall\n",
    "\n",
    "38 bottles of beer on the wall\n",
    "38 bottles of beer\n",
    "Take one down, pass it around\n",
    "37 bottles of beer on the wall\n",
    "\n",
    "37 bottles of beer on the wall\n",
    "37 bottles of beer\n",
    "Take one down, pass it around\n",
    "36 bottles of beer on the wall\n",
    "\n",
    "36 bottles of beer on the wall\n",
    "36 bottles of beer\n",
    "Take one down, pass it around\n",
    "35 bottles of beer on the wall\n",
    "\n",
    "35 bottles of beer on the wall\n",
    "35 bottles of beer\n",
    "Take one down, pass it around\n",
    "34 bottles of beer on the wall\n",
    "\n",
    "34 bottles of beer on the wall\n",
    "34 bottles of beer\n",
    "Take one down, pass it around\n",
    "33 bottles of beer on the wall\n",
    "\n",
    "33 bottles of beer on the wall\n",
    "33 bottles of beer\n",
    "Take one down, pass it around\n",
    "32 bottles of beer on the wall\n",
    "\n",
    "32 bottles of beer on the wall\n",
    "32 bottles of beer\n",
    "Take one down, pass it around\n",
    "31 bottles of beer on the wall\n",
    "\n",
    "31 bottles of beer on the wall\n",
    "31 bottles of beer\n",
    "Take one down, pass it around\n",
    "30 bottles of beer on the wall\n",
    "\n",
    "30 bottles of beer on the wall\n",
    "30 bottles of beer\n",
    "Take one down, pass it around\n",
    "29 bottles of beer on the wall\n",
    "\n",
    "29 bottles of beer on the wall\n",
    "29 bottles of beer\n",
    "Take one down, pass it around\n",
    "28 bottles of beer on the wall\n",
    "\n",
    "28 bottles of beer on the wall\n",
    "28 bottles of beer\n",
    "Take one down, pass it around\n",
    "27 bottles of beer on the wall\n",
    "\n",
    "27 bottles of beer on the wall\n",
    "27 bottles of beer\n",
    "Take one down, pass it around\n",
    "26 bottles of beer on the wall\n",
    "\n",
    "26 bottles of beer on the wall\n",
    "26 bottles of beer\n",
    "Take one down, pass it around\n",
    "25 bottles of beer on the wall\n",
    "\n",
    "25 bottles of beer on the wall\n",
    "25 bottles of beer\n",
    "Take one down, pass it around\n",
    "24 bottles of beer on the wall\n",
    "\n",
    "24 bottles of beer on the wall\n",
    "24 bottles of beer\n",
    "Take one down, pass it around\n",
    "23 bottles of beer on the wall\n",
    "\n",
    "23 bottles of beer on the wall\n",
    "23 bottles of beer\n",
    "Take one down, pass it around\n",
    "22 bottles of beer on the wall\n",
    "\n",
    "22 bottles of beer on the wall\n",
    "22 bottles of beer\n",
    "Take one down, pass it around\n",
    "21 bottles of beer on the wall\n",
    "\n",
    "21 bottles of beer on the wall\n",
    "21 bottles of beer\n",
    "Take one down, pass it around\n",
    "20 bottles of beer on the wall\n",
    "\n",
    "20 bottles of beer on the wall\n",
    "20 bottles of beer\n",
    "Take one down, pass it around\n",
    "19 bottles of beer on the wall\n",
    "\n",
    "19 bottles of beer on the wall\n",
    "19 bottles of beer\n",
    "Take one down, pass it around\n",
    "18 bottles of beer on the wall\n",
    "\n",
    "18 bottles of beer on the wall\n",
    "18 bottles of beer\n",
    "Take one down, pass it around\n",
    "17 bottles of beer on the wall\n",
    "\n",
    "17 bottles of beer on the wall\n",
    "17 bottles of beer\n",
    "Take one down, pass it around\n",
    "16 bottles of beer on the wall\n",
    "\n",
    "16 bottles of beer on the wall\n",
    "16 bottles of beer\n",
    "Take one down, pass it around\n",
    "15 bottles of beer on the wall\n",
    "\n",
    "15 bottles of beer on the wall\n",
    "15 bottles of beer\n",
    "Take one down, pass it around\n",
    "14 bottles of beer on the wall\n",
    "\n",
    "14 bottles of beer on the wall\n",
    "14 bottles of beer\n",
    "Take one down, pass it around\n",
    "13 bottles of beer on the wall\n",
    "\n",
    "13 bottles of beer on the wall\n",
    "13 bottles of beer\n",
    "Take one down, pass it around\n",
    "12 bottles of beer on the wall\n",
    "\n",
    "12 bottles of beer on the wall\n",
    "12 bottles of beer\n",
    "Take one down, pass it around\n",
    "11 bottles of beer on the wall\n",
    "\n",
    "11 bottles of beer on the wall\n",
    "11 bottles of beer\n",
    "Take one down, pass it around\n",
    "10 bottles of beer on the wall\n",
    "\n",
    "10 bottles of beer on the wall\n",
    "10 bottles of beer\n",
    "Take one down, pass it around\n",
    "9 bottles of beer on the wall\n",
    "\n",
    "9 bottles of beer on the wall\n",
    "9 bottles of beer\n",
    "Take one down, pass it around\n",
    "8 bottles of beer on the wall\n",
    "\n",
    "8 bottles of beer on the wall\n",
    "8 bottles of beer\n",
    "Take one down, pass it around\n",
    "7 bottles of beer on the wall\n",
    "\n",
    "7 bottles of beer on the wall\n",
    "7 bottles of beer\n",
    "Take one down, pass it around\n",
    "6 bottles of beer on the wall\n",
    "\n",
    "6 bottles of beer on the wall\n",
    "6 bottles of beer\n",
    "Take one down, pass it around\n",
    "5 bottles of beer on the wall\n",
    "\n",
    "5 bottles of beer on the wall\n",
    "5 bottles of beer\n",
    "Take one down, pass it around\n",
    "4 bottles of beer on the wall\n",
    "\n",
    "4 bottles of beer on the wall\n",
    "4 bottles of beer\n",
    "Take one down, pass it around\n",
    "3 bottles of beer on the wall\n",
    "\n",
    "3 bottles of beer on the wall\n",
    "3 bottles of beer\n",
    "Take one down, pass it around\n",
    "2 bottles of beer on the wall\n",
    "\n",
    "2 bottles of beer on the wall\n",
    "2 bottles of beer\n",
    "Take one down, pass it around\n",
    "1 bottles of beer on the wall\n",
    "\n",
    "1 bottles of beer on the wall\n",
    "1 bottles of beer\n",
    "Take one down, pass it around\n",
    "0 bottles of beer on the wall\n",
    "...\n"
   ]
  },
  {
   "cell_type": "markdown",
   "id": "c9539fde",
   "metadata": {},
   "source": [
    "### Exercise\n",
    "\n",
    "Write a boolean function, `is_between(x, y, z)`, that returns `True` if $x < y < z$ or if \n",
    "$z < y < x$, and`False` otherwise."
   ]
  },
  {
   "cell_type": "code",
   "execution_count": null,
   "id": "4ff615d2",
   "metadata": {},
   "outputs": [],
   "source": [
    "# Solution goes here"
   ]
  },
  {
   "cell_type": "markdown",
   "id": "cea3bfcd",
   "metadata": {},
   "source": [
    "You can use these examples to test your function."
   ]
  },
  {
   "cell_type": "code",
   "execution_count": null,
   "id": "b6eb5579",
   "metadata": {},
   "outputs": [],
   "source": [
    "is_between(1, 2, 3)  # should be True"
   ]
  },
  {
   "cell_type": "code",
   "execution_count": null,
   "id": "8302be84",
   "metadata": {},
   "outputs": [],
   "source": [
    "is_between(3, 2, 1)  # should be True"
   ]
  },
  {
   "cell_type": "code",
   "execution_count": null,
   "id": "440b2685",
   "metadata": {},
   "outputs": [],
   "source": [
    "is_between(1, 3, 2)  # should be False"
   ]
  },
  {
   "cell_type": "code",
   "execution_count": null,
   "id": "a2c42865",
   "metadata": {},
   "outputs": [],
   "source": [
    "is_between(2, 3, 1)  # should be False"
   ]
  },
  {
   "cell_type": "markdown",
   "id": "f9beb330",
   "metadata": {},
   "source": [
    "### Exercise\n",
    "\n",
    "The Ackermann function, $A(m, n)$, is defined:\n",
    "\n",
    "$$\\begin{aligned}\n",
    "A(m, n) = \\begin{cases} \n",
    "              n+1 & \\mbox{if } m = 0 \\\\ \n",
    "        A(m-1, 1) & \\mbox{if } m > 0 \\mbox{ and } n = 0 \\\\ \n",
    "A(m-1, A(m, n-1)) & \\mbox{if } m > 0 \\mbox{ and } n > 0.\n",
    "\\end{cases} \n",
    "\\end{aligned}$$ \n",
    "\n",
    "Write a function named `ackermann` that evaluates the Ackermann function.\n",
    "What happens if you call `ackermann(5, 5)`?"
   ]
  },
  {
   "cell_type": "code",
   "execution_count": null,
   "id": "27ace989",
   "metadata": {},
   "outputs": [],
   "source": [
    "# Solution goes here"
   ]
  },
  {
   "cell_type": "markdown",
   "id": "092f37d1",
   "metadata": {},
   "source": [
    "You can use these examples to test your function."
   ]
  },
  {
   "cell_type": "code",
   "execution_count": null,
   "id": "261e5638",
   "metadata": {},
   "outputs": [],
   "source": [
    "ackermann(3, 2)  # should be 29"
   ]
  },
  {
   "cell_type": "code",
   "execution_count": null,
   "id": "8c814071",
   "metadata": {},
   "outputs": [],
   "source": [
    "ackermann(3, 3)  # should be 61"
   ]
  },
  {
   "cell_type": "code",
   "execution_count": null,
   "id": "5b2fbe03",
   "metadata": {},
   "outputs": [],
   "source": [
    "ackermann(3, 4)  # should be 125"
   ]
  },
  {
   "cell_type": "markdown",
   "id": "a867c55f",
   "metadata": {},
   "source": [
    "If you call this function with values bigger than 4, you get a `RecursionError`."
   ]
  },
  {
   "cell_type": "code",
   "execution_count": null,
   "id": "2975ac5f",
   "metadata": {},
   "outputs": [],
   "source": [
    "%%expect RecursionError\n",
    "\n",
    "ackermann(5, 5)"
   ]
  },
  {
   "cell_type": "markdown",
   "id": "82ca2e96",
   "metadata": {},
   "source": [
    "To see why, add a print statement to the beginning of the function to display the values of the parameters, and then run the examples again."
   ]
  },
  {
   "cell_type": "markdown",
   "id": "2872a425",
   "metadata": {},
   "source": [
    "### Exercise\n",
    "\n",
    "A number, $a$, is a power of $b$ if it is divisible by $b$ and $a/b$ is\n",
    "a power of $b$. Write a function called `is_power` that takes parameters\n",
    "`a` and `b` and returns `True` if `a` is a power of `b`. Note: you will\n",
    "have to think about the base case."
   ]
  },
  {
   "cell_type": "code",
   "execution_count": null,
   "id": "bfebc806",
   "metadata": {},
   "outputs": [],
   "source": [
    "# Solution goes here"
   ]
  },
  {
   "cell_type": "markdown",
   "id": "50d2d5e3",
   "metadata": {},
   "source": [
    "You can use these examples to test your function."
   ]
  },
  {
   "cell_type": "code",
   "execution_count": null,
   "id": "bbdbe90e",
   "metadata": {},
   "outputs": [],
   "source": [
    "is_power(65536, 2)   # should be True"
   ]
  },
  {
   "cell_type": "code",
   "execution_count": null,
   "id": "686766b7",
   "metadata": {},
   "outputs": [],
   "source": [
    "is_power(27, 3)  # should be True"
   ]
  },
  {
   "cell_type": "code",
   "execution_count": null,
   "id": "2ea0aa6d",
   "metadata": {},
   "outputs": [],
   "source": [
    "is_power(24, 2)  # should be False"
   ]
  },
  {
   "cell_type": "code",
   "execution_count": null,
   "id": "e2b14198",
   "metadata": {},
   "outputs": [],
   "source": [
    "is_power(1, 17)   # should be True"
   ]
  },
  {
   "cell_type": "markdown",
   "id": "a9bd398d",
   "metadata": {},
   "source": [
    "### Exercise\n",
    "\n",
    "The greatest common divisor (GCD) of $a$ and $b$ is the largest number\n",
    "that divides both of them with no remainder.\n",
    "\n",
    "One way to find the GCD of two numbers is based on the observation that\n",
    "if $r$ is the remainder when $a$ is divided by $b$, then $gcd(a,\n",
    "b) = gcd(b, r)$. As a base case, we can use $gcd(a, 0) = a$.\n",
    "\n",
    "Write a function called `gcd` that takes parameters `a` and `b` and\n",
    "returns their greatest common divisor."
   ]
  },
  {
   "cell_type": "code",
   "execution_count": null,
   "id": "3940c57a",
   "metadata": {},
   "outputs": [],
   "source": [
    "# Solution goes here"
   ]
  },
  {
   "cell_type": "markdown",
   "id": "a3051bab",
   "metadata": {},
   "source": [
    "You can use these examples to test your function."
   ]
  },
  {
   "cell_type": "code",
   "execution_count": null,
   "id": "2df54e35",
   "metadata": {},
   "outputs": [],
   "source": [
    "gcd(12, 8)    # should be 4"
   ]
  },
  {
   "cell_type": "code",
   "execution_count": null,
   "id": "37e1e035",
   "metadata": {},
   "outputs": [],
   "source": [
    "gcd(13, 17)   # should be 1"
   ]
  },
  {
   "cell_type": "code",
   "execution_count": null,
   "id": "0cbf997d",
   "metadata": {},
   "outputs": [],
   "source": []
  },
  {
   "cell_type": "markdown",
   "id": "a7f4edf8",
   "metadata": {
    "id": "a7f4edf8",
    "tags": []
   },
   "source": [
    "[Think Python: 3rd Edition](https://allendowney.github.io/ThinkPython/index.html)\n",
    "\n",
    "Copyright 2024 [Allen B. Downey](https://allendowney.com)\n",
    "\n",
    "Code license: [MIT License](https://mit-license.org/)\n",
    "\n",
    "Text license: [Creative Commons Attribution-NonCommercial-ShareAlike 4.0 International](https://creativecommons.org/licenses/by-nc-sa/4.0/)"
   ]
  }
 ],
 "metadata": {
  "celltoolbar": "Tags",
  "colab": {
   "provenance": []
  },
  "kernelspec": {
   "display_name": "Python 3 (ipykernel)",
   "language": "python",
   "name": "python3"
  },
  "language_info": {
   "codemirror_mode": {
    "name": "ipython",
    "version": 3
   },
   "file_extension": ".py",
   "mimetype": "text/x-python",
   "name": "python",
   "nbconvert_exporter": "python",
   "pygments_lexer": "ipython3",
   "version": "3.10.11"
  }
 },
 "nbformat": 4,
 "nbformat_minor": 5
}
