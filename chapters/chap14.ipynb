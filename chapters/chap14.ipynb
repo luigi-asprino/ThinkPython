{
 "cells": [
  {
   "cell_type": "markdown",
   "id": "1331faa1",
   "metadata": {},
   "source": [
    "This notebook reuses cells from the notebooks provided by  [*Think Python*, 3rd edition](https://greenteapress.com/wp/think-python-3rd-edition) by Allen B. Downey.\n",
    "\n",
    "**Before you start**. Save a copy of this notebook in your Google Drive (File -> Save a copy in Drive) and run this cell to download the scripts required for this chapter."
   ]
  },
  {
   "cell_type": "code",
   "execution_count": 9,
   "id": "ae5a86f8",
   "metadata": {
    "tags": []
   },
   "outputs": [],
   "source": [
    "from os.path import basename, exists\n",
    "\n",
    "def download(url):\n",
    "    filename = basename(url)\n",
    "    if not exists(filename):\n",
    "        from urllib.request import urlretrieve\n",
    "\n",
    "        local, _ = urlretrieve(url, filename)\n",
    "        print(\"Downloaded \" + str(local))\n",
    "    return filename\n",
    "\n",
    "download('https://github.com/AllenDowney/ThinkPython/raw/v3/thinkpython.py');\n",
    "download('https://github.com/AllenDowney/ThinkPython/raw/v3/diagram.py');\n",
    "\n",
    "import thinkpython"
   ]
  },
  {
   "cell_type": "markdown",
   "id": "e826e661",
   "metadata": {},
   "source": [
    "# Classes and Functions\n",
    "\n",
    "At this point you know how to use functions to organize code and how to use built-in types to organize data.\n",
    "\n",
    "The next step is **object-oriented programming**, which uses programmer-defined types to organize both code and data."
   ]
  },
  {
   "cell_type": "markdown",
   "id": "6b414d4a",
   "metadata": {},
   "source": [
    "## Programmer-defined types\n",
    "\n",
    "We have used many of Python's built-in types -- now we will define a new type.\n",
    "\n",
    "As a first example, we'll create a type called `Time` that represents a time of day.\n",
    "\n",
    "A programmer-defined type is also called a **class**.\n",
    "\n",
    "A class definition looks like this:"
   ]
  },
  {
   "cell_type": "code",
   "execution_count": 10,
   "id": "c9c99d2c",
   "metadata": {},
   "outputs": [],
   "source": [
    "class Time:\n",
    "    \"\"\"Represents a time of day.\"\"\""
   ]
  },
  {
   "cell_type": "markdown",
   "id": "e2414cd2",
   "metadata": {},
   "source": [
    "The header indicates that the new class is called `Time`.\n",
    "\n",
    "The body is a docstring that explains what the class is for.\n",
    "\n",
    "Defining a class creates a **class object**.\n",
    "\n",
    "The class object is like a factory for creating objects.\n",
    "\n",
    "To create a `Time` object, you call `Time` as if it were a function."
   ]
  },
  {
   "cell_type": "code",
   "execution_count": 11,
   "id": "d318001a",
   "metadata": {},
   "outputs": [],
   "source": [
    "lunch = Time()"
   ]
  },
  {
   "cell_type": "markdown",
   "id": "f63247d4",
   "metadata": {},
   "source": [
    "The result is a new object whose type is `__main__.Time`, where `__main__` is the name of the  module where `Time` is defined."
   ]
  },
  {
   "cell_type": "code",
   "execution_count": 12,
   "id": "f37d67fd",
   "metadata": {},
   "outputs": [
    {
     "data": {
      "text/plain": [
       "__main__.Time"
      ]
     },
     "execution_count": 12,
     "metadata": {},
     "output_type": "execute_result"
    }
   ],
   "source": [
    "type(lunch)"
   ]
  },
  {
   "cell_type": "markdown",
   "id": "14d0c96a",
   "metadata": {},
   "source": [
    "When you print an object, Python tells you what type it is and where it is stored in memory (the prefix `0x` means that the following number is in hexadecimal)."
   ]
  },
  {
   "cell_type": "code",
   "execution_count": 13,
   "id": "e2bd114a",
   "metadata": {},
   "outputs": [
    {
     "name": "stdout",
     "output_type": "stream",
     "text": [
      "<__main__.Time object at 0x7fd8f86c9c10>\n"
     ]
    }
   ],
   "source": [
    "print(lunch)"
   ]
  },
  {
   "cell_type": "markdown",
   "id": "b6445414",
   "metadata": {},
   "source": [
    "Creating a new object is called **instantiation**, and the object is an **instance** of the class."
   ]
  },
  {
   "cell_type": "markdown",
   "id": "4c3768ec",
   "metadata": {},
   "source": [
    "## Attributes\n",
    "\n",
    "An object can contain variables, which are called **attributes**.\n",
    "\n",
    "We can create attributes using dot notation."
   ]
  },
  {
   "cell_type": "code",
   "execution_count": 14,
   "id": "e166701a",
   "metadata": {},
   "outputs": [],
   "source": [
    "lunch.hour = 11\n",
    "lunch.minute = 59\n",
    "lunch.second = 1"
   ]
  },
  {
   "cell_type": "markdown",
   "id": "b3fd8858",
   "metadata": {},
   "source": [
    "This example creates attributes called `hour`, `minute`, and `second`, which contain the hours, minutes, and seconds of the time `11:59:01`.\n"
   ]
  },
  {
   "cell_type": "markdown",
   "id": "5ccfaea0",
   "metadata": {},
   "source": [
    "You can use an attribute as part of any expression."
   ]
  },
  {
   "cell_type": "code",
   "execution_count": 15,
   "id": "7ac6db21",
   "metadata": {},
   "outputs": [
    {
     "data": {
      "text/plain": [
       "719"
      ]
     },
     "execution_count": 15,
     "metadata": {},
     "output_type": "execute_result"
    }
   ],
   "source": [
    "total_minutes = lunch.hour * 60 + lunch.minute\n",
    "total_minutes"
   ]
  },
  {
   "cell_type": "markdown",
   "id": "76e691d1",
   "metadata": {},
   "source": [
    "We'll use this f-string to write a function that displays the value of a `Time`object which will be used in the following examples.\n",
    "\n",
    "You can pass an object as an argument in the usual way.\n",
    "\n",
    "For example, the following function takes a `Time` object as an argument. "
   ]
  },
  {
   "cell_type": "code",
   "execution_count": 16,
   "id": "7aa8ae02",
   "metadata": {},
   "outputs": [],
   "source": [
    "def print_time(time):\n",
    "    s = f'{time.hour:02d}:{time.minute:02d}:{time.second:02d}'\n",
    "    print(s)"
   ]
  },
  {
   "cell_type": "markdown",
   "id": "18826e53",
   "metadata": {},
   "source": [
    "## Objects as return values\n",
    "\n",
    "Functions can return objects. For example, `make_time` takes parameters called `hour`, `minute`, and `second`, stores them as attributes in a `Time` object, and returns the new object."
   ]
  },
  {
   "cell_type": "code",
   "execution_count": 17,
   "id": "fde15b59",
   "metadata": {},
   "outputs": [],
   "source": [
    "def make_time(hour, minute, second):\n",
    "    time = Time()\n",
    "    time.hour = hour\n",
    "    time.minute = minute\n",
    "    time.second = second\n",
    "    return time"
   ]
  },
  {
   "cell_type": "markdown",
   "id": "05720bcb",
   "metadata": {},
   "source": [
    "## Objects are mutable\n",
    "\n",
    "Suppose you are going to a screening of a movie, like *Monty Python and the Holy Grail*, which starts at `9:20 PM` and runs for `92` minutes, which is one hour `32` minutes.\n",
    "What time will the movie end?\n",
    "\n",
    "First, we'll create a `Time` object that represents the start time."
   ]
  },
  {
   "cell_type": "code",
   "execution_count": 18,
   "id": "57847af3",
   "metadata": {},
   "outputs": [
    {
     "name": "stdout",
     "output_type": "stream",
     "text": [
      "09:20:00\n"
     ]
    }
   ],
   "source": [
    "start = make_time(9, 20, 0)\n",
    "print_time(start)"
   ]
  },
  {
   "cell_type": "markdown",
   "id": "001bcda9",
   "metadata": {},
   "source": [
    "To find the end time, we can modify the attributes of the `Time` object, adding the duration of the movie."
   ]
  },
  {
   "cell_type": "code",
   "execution_count": 19,
   "id": "f3637b10",
   "metadata": {},
   "outputs": [
    {
     "name": "stdout",
     "output_type": "stream",
     "text": [
      "10:52:00\n"
     ]
    }
   ],
   "source": [
    "start.hour += 1\n",
    "start.minute += 32\n",
    "print_time(start)"
   ]
  },
  {
   "cell_type": "markdown",
   "id": "7007ab61",
   "metadata": {},
   "source": [
    "The movie will be over at 10:52 PM.\n",
    "\n",
    "Let's encapsulate this computation in a function and generalize it to take the duration of the movie in three parameters: `hours`, `minutes`, and `seconds`."
   ]
  },
  {
   "cell_type": "code",
   "execution_count": 20,
   "id": "3468f4d0",
   "metadata": {},
   "outputs": [],
   "source": [
    "def increment_time(time, hours, minutes, seconds):\n",
    "    time.hour += hours\n",
    "    time.minute += minutes\n",
    "    time.second += seconds"
   ]
  },
  {
   "cell_type": "markdown",
   "id": "a51913e2",
   "metadata": {},
   "source": [
    "Here is an example that demonstrates the effect."
   ]
  },
  {
   "cell_type": "code",
   "execution_count": 21,
   "id": "ad8177ad",
   "metadata": {},
   "outputs": [
    {
     "name": "stdout",
     "output_type": "stream",
     "text": [
      "10:52:00\n"
     ]
    }
   ],
   "source": [
    "start = make_time(9, 20, 0)\n",
    "increment_time(start, 1, 32, 0)\n",
    "print_time(start)"
   ]
  },
  {
   "cell_type": "markdown",
   "id": "0128f850",
   "metadata": {},
   "source": [
    "## Copying\n",
    "\n",
    "The `copy` module provides a function called `copy` that can duplicate any object.\n",
    "We can import it like this."
   ]
  },
  {
   "cell_type": "code",
   "execution_count": 22,
   "id": "9f74834d",
   "metadata": {},
   "outputs": [],
   "source": [
    "from copy import copy"
   ]
  },
  {
   "cell_type": "markdown",
   "id": "940adbeb",
   "metadata": {},
   "source": [
    "To see how it works, let's start with a new `Time` object that represents the start time of the movie."
   ]
  },
  {
   "cell_type": "code",
   "execution_count": 23,
   "id": "770c077a",
   "metadata": {},
   "outputs": [],
   "source": [
    "start = make_time(9, 20, 0)"
   ]
  },
  {
   "cell_type": "markdown",
   "id": "514f05b9",
   "metadata": {},
   "source": [
    "And make a copy."
   ]
  },
  {
   "cell_type": "code",
   "execution_count": 24,
   "id": "edced6e5",
   "metadata": {},
   "outputs": [],
   "source": [
    "end = copy(start)"
   ]
  },
  {
   "cell_type": "markdown",
   "id": "87d8956b",
   "metadata": {},
   "source": [
    "Now `start` and `end` contain the same data."
   ]
  },
  {
   "cell_type": "code",
   "execution_count": 25,
   "id": "509c3640",
   "metadata": {},
   "outputs": [
    {
     "name": "stdout",
     "output_type": "stream",
     "text": [
      "09:20:00\n",
      "09:20:00\n"
     ]
    }
   ],
   "source": [
    "print_time(start)\n",
    "print_time(end)"
   ]
  },
  {
   "cell_type": "markdown",
   "id": "e75c1e09",
   "metadata": {},
   "source": [
    "But the `is` operator confirms that they are not the same object."
   ]
  },
  {
   "cell_type": "code",
   "execution_count": 26,
   "id": "60d812f7",
   "metadata": {},
   "outputs": [
    {
     "data": {
      "text/plain": [
       "False"
      ]
     },
     "execution_count": 26,
     "metadata": {},
     "output_type": "execute_result"
    }
   ],
   "source": [
    "start is end"
   ]
  },
  {
   "cell_type": "markdown",
   "id": "22b68a3f",
   "metadata": {},
   "source": [
    "Let's see what the `==` operator does."
   ]
  },
  {
   "cell_type": "code",
   "execution_count": 27,
   "id": "4d504362",
   "metadata": {},
   "outputs": [
    {
     "data": {
      "text/plain": [
       "False"
      ]
     },
     "execution_count": 27,
     "metadata": {},
     "output_type": "execute_result"
    }
   ],
   "source": [
    "start == end"
   ]
  },
  {
   "cell_type": "markdown",
   "id": "78ebf931",
   "metadata": {},
   "source": [
    "You might expect `==` to yield `True` because the objects contain the same data.\n",
    "\n",
    "But for programmer-defined classes, the default behavior of the `==` operator is the same as the `is` operator -- it checks identity, not equivalence."
   ]
  },
  {
   "cell_type": "markdown",
   "id": "a3934fdd-d4cd-41e0-86e6-5bb78d0886a7",
   "metadata": {},
   "source": [
    "## Pure functions\n",
    "\n",
    "We can use `copy` to write pure functions that don't modify their parameters.\n",
    "\n",
    "For example, here's a function that takes a `Time` object and a duration in hours, minutes and seconds.\n",
    "\n",
    "It makes a copy of the original object, uses `increment_time` to modify the copy, and returns it."
   ]
  },
  {
   "cell_type": "code",
   "execution_count": 29,
   "id": "85090d3e",
   "metadata": {},
   "outputs": [],
   "source": [
    "def add_time(time, hours, minutes, seconds):\n",
    "    total = copy(time)\n",
    "    increment_time(total, hours, minutes, seconds)\n",
    "    return total"
   ]
  },
  {
   "cell_type": "markdown",
   "id": "c181af12",
   "metadata": {},
   "source": [
    "Here's how we use it."
   ]
  },
  {
   "cell_type": "code",
   "execution_count": 30,
   "id": "1d9cf4da",
   "metadata": {},
   "outputs": [],
   "source": [
    "end = add_time(start, 1, 32, 0)\n",
    "print_time(end)"
   ]
  },
  {
   "cell_type": "markdown",
   "id": "54b1ca4a",
   "metadata": {},
   "source": [
    "The return value is a new object representing the end time of the movie.\n",
    "And we can confirm that `start` is unchanged."
   ]
  },
  {
   "cell_type": "code",
   "execution_count": 31,
   "id": "9fe30d71",
   "metadata": {},
   "outputs": [],
   "source": [
    "print_time(start)"
   ]
  },
  {
   "cell_type": "markdown",
   "id": "1233b2db",
   "metadata": {},
   "source": [
    "`add_time` is a **pure function** because it does not modify any of the objects passed to it as arguments and its only effect is to return a value."
   ]
  },
  {
   "cell_type": "markdown",
   "id": "501436c0-6634-415f-be84-2d130232b2b8",
   "metadata": {},
   "source": [
    "## Glossary\n",
    "\n",
    "**object-oriented programming:**\n",
    "A style of programming that uses objects to organize code and data.\n",
    "\n",
    "**class:**\n",
    " A programmer-defined type. A class definition creates a new class object.\n",
    "\n",
    "**class object:**\n",
    "An object that represents a class -- it is the result of a class definition.\n",
    "\n",
    "**instantiation:**\n",
    "The process of creating an object that belongs to a class.\n",
    "\n",
    "**instance:**\n",
    " An object that belongs to a class.\n",
    "\n",
    "**attribute:**\n",
    " A variable associated with an object, also called an instance variable.\n",
    "\n",
    "**object diagram:**\n",
    "A graphical representation of an object, its attributes, and their values.\n",
    "\n",
    "**format specifier:**\n",
    "In an f-string, a format specifier determines how a value is converted to a string.\n",
    "\n",
    "**pure function:**\n",
    "A function that does not modify its parameters or have any effect other than returning a value.\n",
    "\n",
    "**functional programming style:**\n",
    "A way of programming that uses pure functions whenever possible.\n",
    "\n",
    "**prototype and patch:**\n",
    "A way of developing programs by starting with a rough draft and gradually adding features and fixing bugs.\n",
    "\n",
    "**design-first development:**\n",
    "A way of developing programs with more careful planning that prototype and patch."
   ]
  },
  {
   "cell_type": "markdown",
   "id": "09dd41c1",
   "metadata": {},
   "source": [
    "## Exercises"
   ]
  },
  {
   "cell_type": "code",
   "execution_count": 53,
   "id": "ab3d0104",
   "metadata": {
    "tags": []
   },
   "outputs": [],
   "source": [
    "# This cell tells Jupyter to provide detailed debugging information\n",
    "# when a runtime error occurs. Run it before working on the exercises.\n",
    "\n",
    "%xmode Verbose"
   ]
  },
  {
   "cell_type": "markdown",
   "id": "c85eab62",
   "metadata": {},
   "source": [
    "## Exercises\n"
   ]
  },
  {
   "cell_type": "markdown",
   "id": "bcdab7d6",
   "metadata": {},
   "source": [
    "### Exercise\n",
    "\n",
    "Write a function called `subtract_time` that takes two `Time` objects and returns the interval between them in seconds -- assuming that they are two times during the same day."
   ]
  },
  {
   "cell_type": "markdown",
   "id": "5033ee5f",
   "metadata": {
    "tags": []
   },
   "source": [
    "Here's an outline of the function to get you started."
   ]
  },
  {
   "cell_type": "code",
   "execution_count": 54,
   "id": "7d898f43",
   "metadata": {
    "tags": []
   },
   "outputs": [],
   "source": [
    "def subtract_time(t1, t2):\n",
    "    \"\"\"Compute the difference between two times in seconds.\n",
    "    \n",
    "    >>> subtract_time(make_time(3, 2, 1), make_time(3, 2, 0))\n",
    "    1\n",
    "    >>> subtract_time(make_time(3, 2, 1), make_time(3, 0, 0))\n",
    "    121\n",
    "    >>> subtract_time(make_time(11, 12, 0), make_time(9, 40, 0))\n",
    "    5520\n",
    "    \"\"\"\n",
    "    return None"
   ]
  },
  {
   "cell_type": "code",
   "execution_count": 55,
   "id": "f1b54959",
   "metadata": {},
   "outputs": [],
   "source": [
    "# Solution goes here"
   ]
  },
  {
   "cell_type": "markdown",
   "id": "73334265",
   "metadata": {
    "tags": []
   },
   "source": [
    "You can use `doctest` to test your function."
   ]
  },
  {
   "cell_type": "code",
   "execution_count": 56,
   "id": "5a25a3de",
   "metadata": {
    "tags": []
   },
   "outputs": [],
   "source": [
    "from doctest import run_docstring_examples\n",
    "\n",
    "def run_doctests(func):\n",
    "    run_docstring_examples(func, globals(), name=func.__name__)\n",
    "\n",
    "run_doctests(subtract_time)"
   ]
  },
  {
   "cell_type": "markdown",
   "id": "c3189549",
   "metadata": {},
   "source": [
    "### Exercise\n",
    "\n",
    "Write a function called `is_after` that takes two `Time` objects and returns `True` if the first time is later in the day than the second, and `False` otherwise."
   ]
  },
  {
   "cell_type": "markdown",
   "id": "fd4ac340",
   "metadata": {
    "tags": []
   },
   "source": [
    "Here's an outline of the function to get you started."
   ]
  },
  {
   "cell_type": "code",
   "execution_count": 57,
   "id": "05499ffa",
   "metadata": {},
   "outputs": [],
   "source": [
    "def is_after(t1, t2):\n",
    "    \"\"\"Checks whether `t1` is after `t2`.\n",
    "    \n",
    "    >>> is_after(make_time(3, 2, 1), make_time(3, 2, 0))\n",
    "    True\n",
    "    >>> is_after(make_time(3, 2, 1), make_time(3, 2, 1))\n",
    "    False\n",
    "    >>> is_after(make_time(11, 12, 0), make_time(9, 40, 0))\n",
    "    True\n",
    "    \"\"\"\n",
    "    return None"
   ]
  },
  {
   "cell_type": "code",
   "execution_count": 58,
   "id": "12b4ad17",
   "metadata": {},
   "outputs": [],
   "source": [
    "# Solution goes here"
   ]
  },
  {
   "cell_type": "markdown",
   "id": "f9da8ede",
   "metadata": {
    "tags": []
   },
   "source": [
    "You can use `doctest` to test your function."
   ]
  },
  {
   "cell_type": "code",
   "execution_count": 59,
   "id": "4e580404",
   "metadata": {
    "tags": []
   },
   "outputs": [],
   "source": [
    "run_doctests(is_after)"
   ]
  },
  {
   "cell_type": "markdown",
   "id": "16dff862",
   "metadata": {},
   "source": [
    "### Exercise\n",
    "\n",
    "Here's a definition for a `Date` class that represents a date -- that is, a year, month, and day of the month."
   ]
  },
  {
   "cell_type": "code",
   "execution_count": 60,
   "id": "c5de60ed",
   "metadata": {},
   "outputs": [],
   "source": [
    "class Date:\n",
    "    \"\"\"Represents a year, month, and day\"\"\""
   ]
  },
  {
   "cell_type": "markdown",
   "id": "3311fa97",
   "metadata": {},
   "source": [
    "1. Write a function called `make_date` that takes `year`, `month`, and `day` as parameters, makes a `Date` object, assigns the parameters to attributes, and returns the result the new object. Create an object that represents June 22, 1933.\n",
    "\n",
    "2. Write a function called `print_date` that takes a `Date` object, uses an f-string to format the attributes, and prints the result. If you test it with the `Date` you created, the result should be `1933-06-22`.\n",
    "\n",
    "3. Write a function called `is_after` that takes two `Date` objects as parameters and returns `True` if the first comes after the second. Create a second object that represents September 17, 1933, and check whether it comes after the first object.\n",
    "\n",
    "Hint: You might find it useful to write a function called `date_to_tuple` that takes a `Date` object and returns a tuple that contains its attributes in year, month, day order."
   ]
  },
  {
   "cell_type": "markdown",
   "id": "90b10ca5",
   "metadata": {
    "tags": []
   },
   "source": [
    "You can use this function outline to get started."
   ]
  },
  {
   "cell_type": "code",
   "execution_count": 61,
   "id": "9e16bcde",
   "metadata": {
    "tags": []
   },
   "outputs": [],
   "source": [
    "def make_date(year, month, day):\n",
    "    return None"
   ]
  },
  {
   "cell_type": "code",
   "execution_count": 62,
   "id": "ff95300b",
   "metadata": {},
   "outputs": [],
   "source": [
    "# Solution goes here"
   ]
  },
  {
   "cell_type": "markdown",
   "id": "20c5edf8",
   "metadata": {
    "tags": []
   },
   "source": [
    "You can use these examples to test `make_date`."
   ]
  },
  {
   "cell_type": "code",
   "execution_count": 63,
   "id": "62180007",
   "metadata": {
    "tags": []
   },
   "outputs": [],
   "source": [
    "birthday1 = make_date(1933, 6, 22)"
   ]
  },
  {
   "cell_type": "code",
   "execution_count": 64,
   "id": "2d70104e",
   "metadata": {
    "tags": []
   },
   "outputs": [],
   "source": [
    "birthday2 = make_date(1933, 9, 17)"
   ]
  },
  {
   "cell_type": "markdown",
   "id": "16ff5bef",
   "metadata": {
    "tags": []
   },
   "source": [
    "You can use this function outline to get started."
   ]
  },
  {
   "cell_type": "code",
   "execution_count": 65,
   "id": "2cc0653e",
   "metadata": {
    "tags": []
   },
   "outputs": [],
   "source": [
    "def print_date(date):\n",
    "    print('')"
   ]
  },
  {
   "cell_type": "code",
   "execution_count": 66,
   "id": "0b8f63df",
   "metadata": {},
   "outputs": [],
   "source": [
    "# Solution goes here"
   ]
  },
  {
   "cell_type": "markdown",
   "id": "c36c432e",
   "metadata": {
    "tags": []
   },
   "source": [
    "You can use this example to test `print_date`."
   ]
  },
  {
   "cell_type": "code",
   "execution_count": 67,
   "id": "2d0a026d",
   "metadata": {
    "tags": []
   },
   "outputs": [],
   "source": [
    "print_date(birthday1)"
   ]
  },
  {
   "cell_type": "markdown",
   "id": "17565b1e",
   "metadata": {
    "tags": []
   },
   "source": [
    "You can use this function outline to get started."
   ]
  },
  {
   "cell_type": "code",
   "execution_count": 68,
   "id": "70413f48",
   "metadata": {
    "tags": []
   },
   "outputs": [],
   "source": [
    "def is_after(date1, date2):\n",
    "    return None"
   ]
  },
  {
   "cell_type": "code",
   "execution_count": 69,
   "id": "b244a057",
   "metadata": {},
   "outputs": [],
   "source": [
    "# Solution goes here"
   ]
  },
  {
   "cell_type": "code",
   "execution_count": 70,
   "id": "5fab04bd",
   "metadata": {},
   "outputs": [],
   "source": [
    "# Solution goes here"
   ]
  },
  {
   "cell_type": "markdown",
   "id": "d9b5dd67",
   "metadata": {
    "tags": []
   },
   "source": [
    "You can use these examples to test `is_after`."
   ]
  },
  {
   "cell_type": "code",
   "execution_count": 71,
   "id": "59166d30",
   "metadata": {
    "tags": []
   },
   "outputs": [],
   "source": [
    "is_after(birthday1, birthday2)  # should be False"
   ]
  },
  {
   "cell_type": "code",
   "execution_count": 72,
   "id": "c33706ee",
   "metadata": {
    "tags": []
   },
   "outputs": [],
   "source": [
    "is_after(birthday2, birthday1)  # should be True"
   ]
  },
  {
   "cell_type": "markdown",
   "id": "a7f4edf8",
   "metadata": {
    "tags": []
   },
   "source": [
    "[Think Python: 3rd Edition](https://allendowney.github.io/ThinkPython/index.html)\n",
    "\n",
    "Copyright 2024 [Allen B. Downey](https://allendowney.com)\n",
    "\n",
    "Code license: [MIT License](https://mit-license.org/)\n",
    "\n",
    "Text license: [Creative Commons Attribution-NonCommercial-ShareAlike 4.0 International](https://creativecommons.org/licenses/by-nc-sa/4.0/)"
   ]
  }
 ],
 "metadata": {
  "celltoolbar": "Tags",
  "kernelspec": {
   "display_name": "base",
   "language": "python",
   "name": "python3"
  },
  "language_info": {
   "codemirror_mode": {
    "name": "ipython",
    "version": 3
   },
   "file_extension": ".py",
   "mimetype": "text/x-python",
   "name": "python",
   "nbconvert_exporter": "python",
   "pygments_lexer": "ipython3",
   "version": "3.7.4"
  }
 },
 "nbformat": 4,
 "nbformat_minor": 5
}
