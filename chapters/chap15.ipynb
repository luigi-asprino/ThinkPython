{
 "cells": [
  {
   "cell_type": "markdown",
   "id": "1331faa1",
   "metadata": {},
   "source": [
    "This notebook reuses cells from the notebooks provided by  [*Think Python*, 3rd edition](https://greenteapress.com/wp/think-python-3rd-edition) by Allen B. Downey.\n",
    "\n",
    "**Before you start**. Save a copy of this notebook in your Google Drive (File -> Save a copy in Drive) and run this cell to download the scripts required for this chapter."
   ]
  },
  {
   "cell_type": "code",
   "execution_count": null,
   "id": "3161b50b",
   "metadata": {
    "tags": []
   },
   "outputs": [],
   "source": [
    "from os.path import basename, exists\n",
    "\n",
    "def download(url):\n",
    "    filename = basename(url)\n",
    "    if not exists(filename):\n",
    "        from urllib.request import urlretrieve\n",
    "\n",
    "        local, _ = urlretrieve(url, filename)\n",
    "        print(\"Downloaded \" + str(local))\n",
    "    return filename\n",
    "\n",
    "download('https://github.com/AllenDowney/ThinkPython/raw/v3/thinkpython.py');\n",
    "download('https://github.com/AllenDowney/ThinkPython/raw/v3/diagram.py');\n",
    "\n",
    "import thinkpython"
   ]
  },
  {
   "cell_type": "markdown",
   "id": "fa22117f",
   "metadata": {},
   "source": [
    "# Classes and Methods\n",
    "\n",
    "Python is an **object-oriented language** -- that is, it provides features that support object-oriented programming, which has these defining characteristics:\n",
    "\n",
    "-   Most of the computation is expressed in terms of operations on objects.\n",
    "\n",
    "-   Objects often represent things in the real world, and methods often correspond to the ways things in the real world interact. A **method** is a way of making the objects interact.\n",
    "\n",
    "-   Programs include class and method definitions."
   ]
  },
  {
   "cell_type": "markdown",
   "id": "9857823a",
   "metadata": {},
   "source": [
    "## Defining methods\n",
    "\n",
    "In the previous chapter we defined a class named `Time` and wrote a function named `print_time` that displays a time of day."
   ]
  },
  {
   "cell_type": "code",
   "execution_count": null,
   "id": "ee093ca4",
   "metadata": {},
   "outputs": [],
   "source": [
    "class Time:\n",
    "    \"\"\"Represents the time of day.\"\"\"\n",
    "\n",
    "def print_time(time):\n",
    "    s = f'{time.hour:02d}:{time.minute:02d}:{time.second:02d}'\n",
    "    print(s)"
   ]
  },
  {
   "cell_type": "markdown",
   "id": "a89ddf58",
   "metadata": {},
   "source": [
    "To make `print_time` a method, all we have to do is move the function\n",
    "definition inside the class definition. \n",
    "\n",
    "**Notice the change in indentation.**\n",
    "\n",
    "At the same time, we'll change the name of the parameter from `time` to `self`.\n",
    "\n",
    "This change is not necessary, but it is conventional for the first parameter of a method to be named `self`.\n",
    "\n",
    "`self` is a reference to the object on which the method is invoked (`start` in the examples below)."
   ]
  },
  {
   "cell_type": "code",
   "execution_count": null,
   "id": "fd26a1bc",
   "metadata": {},
   "outputs": [],
   "source": [
    "class Time:\n",
    "    \"\"\"Represents the time of day.\"\"\"    \n",
    "\n",
    "    def print_time(self):\n",
    "        s = f'{self.hour:02d}:{self.minute:02d}:{self.second:02d}'\n",
    "        print(s)"
   ]
  },
  {
   "cell_type": "markdown",
   "id": "8da4079c",
   "metadata": {},
   "source": [
    "To call this method, you have to pass a `Time` object as an argument.\n",
    "Here's the function we'll use to make a `Time` object."
   ]
  },
  {
   "cell_type": "code",
   "execution_count": null,
   "id": "5fc157ea",
   "metadata": {},
   "outputs": [],
   "source": [
    "def make_time(hour, minute, second):\n",
    "    time = Time()\n",
    "    time.hour = hour\n",
    "    time.minute = minute\n",
    "    time.second = second\n",
    "    return time"
   ]
  },
  {
   "cell_type": "markdown",
   "id": "c6ad4e12",
   "metadata": {},
   "source": [
    "And here's a `Time` instance."
   ]
  },
  {
   "cell_type": "code",
   "execution_count": null,
   "id": "35acd8e6",
   "metadata": {},
   "outputs": [],
   "source": [
    "start = make_time(9, 40, 0)"
   ]
  },
  {
   "cell_type": "markdown",
   "id": "bbbcd333",
   "metadata": {},
   "source": [
    "Now there are two ways to call `print_time`. The first (and less common)\n",
    "way is to use function syntax."
   ]
  },
  {
   "cell_type": "code",
   "execution_count": null,
   "id": "f755081c",
   "metadata": {},
   "outputs": [],
   "source": [
    "Time.print_time(start)"
   ]
  },
  {
   "cell_type": "markdown",
   "id": "2eb0847e",
   "metadata": {},
   "source": [
    "In this version, `Time` is the name of the class, `print_time` is the name of the method, and `start` is passed as a parameter.\n",
    "The second (and more idiomatic) way is to use method syntax:"
   ]
  },
  {
   "cell_type": "code",
   "execution_count": null,
   "id": "d6f91aec",
   "metadata": {},
   "outputs": [],
   "source": [
    "start.print_time()"
   ]
  },
  {
   "cell_type": "markdown",
   "id": "c80c40f0",
   "metadata": {},
   "source": [
    "In this version, `start` is the object the method is invoked on, which is called the **receiver**, based on the analogy that invoking a method is like sending a message to an object.\n",
    "\n",
    "Regardless of the syntax, the behavior of the method is the same."
   ]
  },
  {
   "cell_type": "markdown",
   "id": "2f3511f8",
   "metadata": {},
   "source": [
    "Of course you can add multiple methods to a class"
   ]
  },
  {
   "cell_type": "code",
   "execution_count": null,
   "id": "65938e38",
   "metadata": {},
   "outputs": [],
   "source": [
    "class Time:\n",
    "    \"\"\"Represents the time of day.\"\"\"    \n",
    "\n",
    "    def print_time(self):\n",
    "        s = f'{self.hour:02d}:{self.minute:02d}:{self.second:02d}'\n",
    "        print(s)\n",
    "        \n",
    "    def time_to_int(self):\n",
    "        minutes = self.hour * 60 + self.minute\n",
    "        seconds = minutes * 60 + self.second\n",
    "        return seconds"
   ]
  },
  {
   "cell_type": "markdown",
   "id": "7bc24683",
   "metadata": {},
   "source": [
    "## Static methods\n",
    "\n",
    "As another example, let's consider the `int_to_time` function.\n",
    "Here's the version from the previous chapter."
   ]
  },
  {
   "cell_type": "code",
   "execution_count": null,
   "id": "8547b1c2",
   "metadata": {},
   "outputs": [],
   "source": [
    "def int_to_time(seconds):\n",
    "    minute, second = divmod(seconds, 60)\n",
    "    hour, minute = divmod(minute, 60)\n",
    "    return make_time(hour, minute, second)"
   ]
  },
  {
   "cell_type": "markdown",
   "id": "2b77c2a0",
   "metadata": {},
   "source": [
    "A **static method** is a method that does not require an instance of the class to be invoked.\n",
    "\n",
    "Here's how we rewrite this function as a static method."
   ]
  },
  {
   "cell_type": "code",
   "execution_count": null,
   "id": "b233669c",
   "metadata": {},
   "outputs": [],
   "source": [
    "class Time:\n",
    "    \"\"\"Represents the time of day.\"\"\"    \n",
    "\n",
    "    def print_time(self):\n",
    "        s = f'{self.hour:02d}:{self.minute:02d}:{self.second:02d}'\n",
    "        print(s)\n",
    "    \n",
    "    def time_to_int(self):\n",
    "        minutes = self.hour * 60 + self.minute\n",
    "        seconds = minutes * 60 + self.second\n",
    "        return seconds\n",
    "    \n",
    "    @staticmethod\n",
    "    def int_to_time(seconds):\n",
    "        minute, second = divmod(seconds, 60)\n",
    "        hour, minute = divmod(minute, 60)\n",
    "        return make_time(hour, minute, second)"
   ]
  },
  {
   "cell_type": "markdown",
   "id": "a7e2e788",
   "metadata": {},
   "source": [
    "Because it is a static method, it does not have `self` as a parameter.\n",
    "To invoke it, we use `Time`, which is the class object."
   ]
  },
  {
   "cell_type": "code",
   "execution_count": null,
   "id": "7e88f06b",
   "metadata": {},
   "outputs": [],
   "source": [
    "start = Time.int_to_time(34800)"
   ]
  },
  {
   "cell_type": "markdown",
   "id": "d2f4fd5a",
   "metadata": {},
   "source": [
    "The result is a new object that represents 9:40."
   ]
  },
  {
   "cell_type": "code",
   "execution_count": null,
   "id": "8c9f66b0",
   "metadata": {},
   "outputs": [],
   "source": [
    "start.print_time()"
   ]
  },
  {
   "cell_type": "markdown",
   "id": "e6a18c76",
   "metadata": {},
   "source": [
    "Now that we have `Time.from_seconds`, we can use it to write `add_time` as a method.\n",
    "Here's the function from the previous chapter."
   ]
  },
  {
   "cell_type": "code",
   "execution_count": null,
   "id": "c600d536",
   "metadata": {},
   "outputs": [],
   "source": [
    "def add_time(time, hours, minutes, seconds):\n",
    "    duration = make_time(hours, minutes, seconds)\n",
    "    seconds = time_to_int(time) + time_to_int(duration)\n",
    "    return int_to_time(seconds)"
   ]
  },
  {
   "cell_type": "markdown",
   "id": "8e56da48",
   "metadata": {},
   "source": [
    "And here's a version rewritten as a method."
   ]
  },
  {
   "cell_type": "code",
   "execution_count": null,
   "id": "c6fa0176",
   "metadata": {},
   "outputs": [],
   "source": [
    "class Time:\n",
    "    \"\"\"Represents the time of day.\"\"\"    \n",
    "\n",
    "    def print_time(self):\n",
    "        s = f'{self.hour:02d}:{self.minute:02d}:{self.second:02d}'\n",
    "        print(s)\n",
    "    \n",
    "    def time_to_int(self):\n",
    "        minutes = self.hour * 60 + self.minute\n",
    "        seconds = minutes * 60 + self.second\n",
    "        return seconds\n",
    "    \n",
    "    @staticmethod\n",
    "    def int_to_time(seconds):\n",
    "        minute, second = divmod(seconds, 60)\n",
    "        hour, minute = divmod(minute, 60)\n",
    "        return make_time(hour, minute, second)\n",
    "    \n",
    "    def add_time(self, hours, minutes, seconds):\n",
    "        duration = make_time(hours, minutes, seconds)\n",
    "        seconds = time_to_int(self) + time_to_int(duration)\n",
    "        return Time.int_to_time(seconds)"
   ]
  },
  {
   "cell_type": "markdown",
   "id": "b784a4ea",
   "metadata": {},
   "source": [
    "`add_time` has `self` as a parameter because it is not a static method.\n",
    "It is an ordinary method -- also called an **instance method**.\n",
    "To invoke it, we need a `Time` instance."
   ]
  },
  {
   "cell_type": "code",
   "execution_count": null,
   "id": "e17b2ad7",
   "metadata": {},
   "outputs": [],
   "source": [
    "end = start.add_time(1, 32, 0)\n",
    "print_time(end)"
   ]
  },
  {
   "cell_type": "markdown",
   "id": "15a17fce",
   "metadata": {},
   "source": [
    "## The `__str__` method\n",
    "\n",
    "When you write a method, you can choose almost any name you want.\n",
    "\n",
    "However, some names have special meanings.\n",
    "\n",
    "For example, if an object has a method named `__str__`, Python uses that method to convert the object to a string.\n",
    "\n",
    "For example, here is a `__str__` method for a time object."
   ]
  },
  {
   "cell_type": "code",
   "execution_count": null,
   "id": "f935a999",
   "metadata": {},
   "outputs": [],
   "source": [
    "class Time:\n",
    "    \"\"\"Represents the time of day.\"\"\"    \n",
    "    \n",
    "    def time_to_int(self):\n",
    "        minutes = self.hour * 60 + self.minute\n",
    "        seconds = minutes * 60 + self.second\n",
    "        return seconds\n",
    "    \n",
    "    @staticmethod\n",
    "    def int_to_time(seconds):\n",
    "        minute, second = divmod(seconds, 60)\n",
    "        hour, minute = divmod(minute, 60)\n",
    "        return make_time(hour, minute, second)\n",
    "    \n",
    "    def add_time(self, hours, minutes, seconds):\n",
    "        duration = make_time(hours, minutes, seconds)\n",
    "        seconds = time_to_int(self) + time_to_int(duration)\n",
    "        return Time.int_to_time(seconds)\n",
    "    \n",
    "    def __str__(self):\n",
    "        s = f'{self.hour:02d}:{self.minute:02d}:{self.second:02d}'\n",
    "        return s"
   ]
  },
  {
   "cell_type": "markdown",
   "id": "b056b729",
   "metadata": {},
   "source": [
    "This method is similar to `print_time`, from the previous chapter, except that it returns the string rather than printing it.\n",
    "\n",
    "You can invoke this method in the usual way."
   ]
  },
  {
   "cell_type": "code",
   "execution_count": null,
   "id": "61d7275d",
   "metadata": {},
   "outputs": [],
   "source": [
    "end.__str__()"
   ]
  },
  {
   "cell_type": "markdown",
   "id": "76092a0c",
   "metadata": {},
   "source": [
    "But Python can also invoke it for you.\n",
    "If you use the built-in function `str` to convert a `Time` object to a string, Python uses the `__str__` method in the `Time` class."
   ]
  },
  {
   "cell_type": "code",
   "execution_count": null,
   "id": "b6dcc0c2",
   "metadata": {},
   "outputs": [],
   "source": [
    "str(end)"
   ]
  },
  {
   "cell_type": "markdown",
   "id": "8a26caa8",
   "metadata": {},
   "source": [
    "And it does the same if you print a `Time` object."
   ]
  },
  {
   "cell_type": "code",
   "execution_count": null,
   "id": "6e1e6fb3",
   "metadata": {},
   "outputs": [],
   "source": [
    "print(end)"
   ]
  },
  {
   "cell_type": "markdown",
   "id": "97eb30c2",
   "metadata": {},
   "source": [
    "Methods like `__str__` are called **special methods**.\n",
    "You can identify them because their names begin and end with two underscores."
   ]
  },
  {
   "cell_type": "markdown",
   "id": "e01e9673",
   "metadata": {},
   "source": [
    "## The __init__ method\n",
    "\n",
    "The most special of the special methods is `__init__`, so-called because it initializes the attributes of a new object.\n",
    "An `__init__` method for the `Time` class might look like this:"
   ]
  },
  {
   "cell_type": "code",
   "execution_count": null,
   "id": "7ddcca8a",
   "metadata": {},
   "outputs": [],
   "source": [
    "class Time:\n",
    "    \"\"\"Represents the time of day.\"\"\"    \n",
    "    \n",
    "    def time_to_int(self):\n",
    "        minutes = self.hour * 60 + self.minute\n",
    "        seconds = minutes * 60 + self.second\n",
    "        return seconds\n",
    "    \n",
    "    @staticmethod\n",
    "    def int_to_time(seconds):\n",
    "        minute, second = divmod(seconds, 60)\n",
    "        hour, minute = divmod(minute, 60)\n",
    "        return make_time(hour, minute, second)\n",
    "    \n",
    "    def add_time(self, hours, minutes, seconds):\n",
    "        duration = make_time(hours, minutes, seconds)\n",
    "        seconds = time_to_int(self) + time_to_int(duration)\n",
    "        return Time.int_to_time(seconds)\n",
    "    \n",
    "    def __str__(self):\n",
    "        s = f'{self.hour:02d}:{self.minute:02d}:{self.second:02d}'\n",
    "        return s\n",
    "    \n",
    "    def __init__(self, hour=0, minute=0, second=0):\n",
    "        self.hour = hour\n",
    "        self.minute = minute\n",
    "        self.second = second"
   ]
  },
  {
   "cell_type": "markdown",
   "id": "8ba624c3",
   "metadata": {},
   "source": [
    "Now when we instantiate a `Time` object, Python invokes `__init__`, and passes along the arguments.\n",
    "\n",
    "So we can create an object and initialize the attributes at the same time."
   ]
  },
  {
   "cell_type": "code",
   "execution_count": null,
   "id": "afd652c6",
   "metadata": {},
   "outputs": [],
   "source": [
    "time = Time(9, 40, 0)\n",
    "print(time)"
   ]
  },
  {
   "cell_type": "markdown",
   "id": "55e0e296",
   "metadata": {},
   "source": [
    "In this example, the parameters are optional, so if you call `Time` with no arguments,\n",
    "you get the default values."
   ]
  },
  {
   "cell_type": "code",
   "execution_count": null,
   "id": "8a852588",
   "metadata": {},
   "outputs": [],
   "source": [
    "time = Time()\n",
    "print(time)"
   ]
  },
  {
   "cell_type": "markdown",
   "id": "bacb036d",
   "metadata": {},
   "source": [
    "If you provide one argument, it overrides `hour`:"
   ]
  },
  {
   "cell_type": "code",
   "execution_count": null,
   "id": "0ff75ace",
   "metadata": {},
   "outputs": [],
   "source": [
    "time = Time(9)\n",
    "print(time)"
   ]
  },
  {
   "cell_type": "markdown",
   "id": "37edb221",
   "metadata": {},
   "source": [
    "If you provide two arguments, they override `hour` and `minute`."
   ]
  },
  {
   "cell_type": "code",
   "execution_count": null,
   "id": "b8e948bc",
   "metadata": {},
   "outputs": [],
   "source": [
    "time = Time(9, 45)\n",
    "print(time)"
   ]
  },
  {
   "cell_type": "markdown",
   "id": "277de217",
   "metadata": {},
   "source": [
    "And if you provide three arguments, they override all three default\n",
    "values.\n",
    "\n",
    "When I write a new class, I almost always start by writing `__init__`, which makes it easier to create objects, and `__str__`, which is useful for debugging."
   ]
  },
  {
   "cell_type": "markdown",
   "id": "94bbbd7d",
   "metadata": {},
   "source": [
    "## Operator overloading\n",
    "\n",
    "By defining other special methods, you can specify the behavior of\n",
    "operators on programmer-defined types. For example, if you define a\n",
    "method named `__add__` for the `Time` class, you can use the `+`\n",
    "operator on Time objects.\n",
    "\n",
    "Here is an `__add__` method."
   ]
  },
  {
   "cell_type": "code",
   "execution_count": null,
   "id": "0d140036",
   "metadata": {},
   "outputs": [],
   "source": [
    "class Time:\n",
    "    \"\"\"Represents the time of day.\"\"\"    \n",
    "    \n",
    "    def time_to_int(self):\n",
    "        minutes = self.hour * 60 + self.minute\n",
    "        seconds = minutes * 60 + self.second\n",
    "        return seconds\n",
    "    \n",
    "    @staticmethod\n",
    "    def int_to_time(seconds):\n",
    "        minute, second = divmod(seconds, 60)\n",
    "        hour, minute = divmod(minute, 60)\n",
    "        return make_time(hour, minute, second)\n",
    "    \n",
    "    def add_time(self, hours, minutes, seconds):\n",
    "        duration = make_time(hours, minutes, seconds)\n",
    "        seconds = time_to_int(self) + time_to_int(duration)\n",
    "        return Time.int_to_time(seconds)\n",
    "    \n",
    "    def __str__(self):\n",
    "        s = f'{self.hour:02d}:{self.minute:02d}:{self.second:02d}'\n",
    "        return s\n",
    "    \n",
    "    def __init__(self, hour=0, minute=0, second=0):\n",
    "        self.hour = hour\n",
    "        self.minute = minute\n",
    "        self.second = second\n",
    "        \n",
    "    def __add__(self, other):\n",
    "        seconds = self.time_to_int() + other.time_to_int()\n",
    "        return Time.int_to_time(seconds)"
   ]
  },
  {
   "cell_type": "markdown",
   "id": "0221c9ad",
   "metadata": {},
   "source": [
    "We can use it like this."
   ]
  },
  {
   "cell_type": "code",
   "execution_count": null,
   "id": "280acfce",
   "metadata": {},
   "outputs": [],
   "source": [
    "duration = Time(1, 32)\n",
    "end = start + duration\n",
    "print(end)"
   ]
  },
  {
   "cell_type": "markdown",
   "id": "7cc7866e",
   "metadata": {},
   "source": [
    "There is a lot happening when we run these three lines of code:\n",
    "\n",
    "* When we instantiate a `Time` object, the `__init__` method is invoked.\n",
    "\n",
    "* When we use the `+` operator with a `Time` object, its `__add__` method is invoked.\n",
    "\n",
    "* And when we print a `Time` object, its `__str__` method is invoked.\n",
    "\n",
    "Changing the behavior of an operator so that it works with programmer-defined types is called **operator overloading**.\n",
    "For every operator, like `+`, there is a corresponding special method, like `__add__`. "
   ]
  },
  {
   "cell_type": "markdown",
   "id": "58b86fbe",
   "metadata": {},
   "source": [
    "## Glossary\n",
    "\n",
    "**object-oriented language:**\n",
    "A language that provides features to support object-oriented programming, notably user-defined types.\n",
    "\n",
    "**method:**\n",
    "A function that is defined inside a class definition and is invoked on instances of that class.\n",
    "\n",
    "**receiver:**\n",
    "The object a method is invoked on.\n",
    "\n",
    "**static method:**\n",
    "A method that can be invoked without an object as receiver.\n",
    "\n",
    "**instance method:**\n",
    "A method that must be invoked with an object as receiver.\n",
    "\n",
    "**special method:**\n",
    "A method that changes the way operators and some functions work with an object.\n",
    "\n",
    "**operator overloading:**\n",
    "The process of using special methods to change the way operators with with user-defined types.\n",
    "\n",
    "**invariant:**\n",
    " A condition that should always be true during the execution of a program."
   ]
  },
  {
   "cell_type": "markdown",
   "id": "796adf5c",
   "metadata": {},
   "source": [
    "## Exercises"
   ]
  },
  {
   "cell_type": "code",
   "execution_count": null,
   "id": "3115ea33",
   "metadata": {
    "tags": []
   },
   "outputs": [],
   "source": [
    "# This cell tells Jupyter to provide detailed debugging information\n",
    "# when a runtime error occurs. Run it before working on the exercises.\n",
    "\n",
    "%xmode Verbose"
   ]
  },
  {
   "cell_type": "markdown",
   "id": "fc9f135b-e242-4ef6-83eb-8e028235c07b",
   "metadata": {},
   "source": [
    "### Exercise\n",
    "\n",
    "In the previous chapter, a series of exercises asked you to write a `Date` class and several functions that work with `Date` objects.\n",
    "Now let's practice rewriting those functions as methods.\n",
    "\n",
    "1. Write a definition for a `Date` class that represents a date -- that is, a year, month, and day of the month.\n",
    "\n",
    "2. Write an `__init__` method that takes `year`, `month`, and `day` as parameters and assigns the parameters to attributes. Create an object that represents June 22, 1933.\n",
    "\n",
    "2. Write `__str__` method that uses an f-string to format the attributes and returns the result. If you test it with the `Date` you created, the result should be `1933-06-22`.\n",
    "\n",
    "3. Write a method called `is_after` that takes two `Date` objects and returns `True` if the first comes after the second. Create a second object that represents September 17, 1933, and check whether it comes after the first object.\n",
    "\n",
    "Hint: You might find it useful write a method called `to_tuple` that returns a tuple that contains the attributes of a `Date` object in year-month-day order."
   ]
  },
  {
   "cell_type": "code",
   "execution_count": null,
   "id": "3c9f3777-4869-481e-9f4e-4223d6028913",
   "metadata": {},
   "outputs": [],
   "source": [
    "# Solution goes here"
   ]
  },
  {
   "cell_type": "markdown",
   "id": "1122620d-f3f6-4746-8675-13ce0b7f3ee9",
   "metadata": {
    "tags": []
   },
   "source": [
    "You can use these examples to test your solution."
   ]
  },
  {
   "cell_type": "code",
   "execution_count": null,
   "id": "fd4b2521-aa71-45da-97eb-ce62ce2714ad",
   "metadata": {
    "tags": []
   },
   "outputs": [],
   "source": [
    "birthday1 = Date(1933, 6, 22)\n",
    "print(birthday1)"
   ]
  },
  {
   "cell_type": "code",
   "execution_count": null,
   "id": "ee3f1294-cad1-406b-a574-045ad2b84294",
   "metadata": {
    "tags": []
   },
   "outputs": [],
   "source": [
    "birthday2 = Date(1933, 9, 17)\n",
    "print(birthday2)"
   ]
  },
  {
   "cell_type": "code",
   "execution_count": null,
   "id": "ac093f7b-83cf-4488-8842-5c71bcfa35ec",
   "metadata": {
    "tags": []
   },
   "outputs": [],
   "source": [
    "birthday1.is_after(birthday2)  # should be False"
   ]
  },
  {
   "cell_type": "code",
   "execution_count": null,
   "id": "7e7cb5e1-631f-4b1e-874f-eb16d4792625",
   "metadata": {
    "tags": []
   },
   "outputs": [],
   "source": [
    "birthday2.is_after(birthday1)  # should be True"
   ]
  },
  {
   "cell_type": "markdown",
   "id": "a7f4edf8",
   "metadata": {
    "tags": []
   },
   "source": [
    "[Think Python: 3rd Edition](https://allendowney.github.io/ThinkPython/index.html)\n",
    "\n",
    "Copyright 2024 [Allen B. Downey](https://allendowney.com)\n",
    "\n",
    "Code license: [MIT License](https://mit-license.org/)\n",
    "\n",
    "Text license: [Creative Commons Attribution-NonCommercial-ShareAlike 4.0 International](https://creativecommons.org/licenses/by-nc-sa/4.0/)"
   ]
  }
 ],
 "metadata": {
  "celltoolbar": "Tags",
  "kernelspec": {
   "display_name": "base",
   "language": "python",
   "name": "python3"
  },
  "language_info": {
   "codemirror_mode": {
    "name": "ipython",
    "version": 3
   },
   "file_extension": ".py",
   "mimetype": "text/x-python",
   "name": "python",
   "nbconvert_exporter": "python",
   "pygments_lexer": "ipython3",
   "version": "3.7.4"
  }
 },
 "nbformat": 4,
 "nbformat_minor": 5
}
